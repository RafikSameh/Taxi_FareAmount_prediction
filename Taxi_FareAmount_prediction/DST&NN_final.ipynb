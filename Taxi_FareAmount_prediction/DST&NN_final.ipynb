{
  "cells": [
    {
      "cell_type": "markdown",
      "metadata": {
        "id": "yecv3oq6dZEn"
      },
      "source": [
        "# Import necessary libraries"
      ]
    },
    {
      "cell_type": "markdown",
      "metadata": {
        "id": "aa2ss6gmdVzz"
      },
      "source": []
    },
    {
      "cell_type": "code",
      "execution_count": 1,
      "metadata": {
        "id": "NV8hR56NdDnK"
      },
      "outputs": [],
      "source": [
        "import pandas as pd\n",
        "import numpy as np\n",
        "from sklearn.model_selection import train_test_split, GridSearchCV, KFold\n",
        "from sklearn.tree import DecisionTreeRegressor\n",
        "from sklearn.neural_network import MLPRegressor\n",
        "from sklearn.metrics import mean_squared_error, r2_score\n",
        "from sklearn.ensemble import RandomForestRegressor\n",
        "from sklearn.preprocessing import StandardScaler, OneHotEncoder, RobustScaler,LabelEncoder\n",
        "from sklearn.compose import ColumnTransformer\n",
        "from sklearn.pipeline import Pipeline\n",
        "from sklearn.impute import SimpleImputer\n",
        "from sklearn.decomposition import PCA\n",
        "from sklearn.feature_selection import SelectKBest, f_classif\n",
        "\n",
        "import os\n",
        "import joblib"
      ]
    },
    {
      "cell_type": "markdown",
      "metadata": {
        "id": "f6vz21SUdknE"
      },
      "source": [
        "# 1. Data Loading and Preprocessing"
      ]
    },
    {
      "cell_type": "code",
      "execution_count": 2,
      "metadata": {
        "id": "___F1jQVdfp9"
      },
      "outputs": [],
      "source": [
        "# load the dataset\n",
        "dt = pd.read_csv(r'final_internship_data.csv')"
      ]
    },
    {
      "cell_type": "code",
      "execution_count": 3,
      "metadata": {
        "colab": {
          "base_uri": "https://localhost:8080/",
          "height": 359
        },
        "id": "JBjUcxYJdfsm",
        "outputId": "fda005c5-a88c-4c00-8d87-a268382f5422"
      },
      "outputs": [
        {
          "data": {
            "text/html": [
              "<div>\n",
              "<style scoped>\n",
              "    .dataframe tbody tr th:only-of-type {\n",
              "        vertical-align: middle;\n",
              "    }\n",
              "\n",
              "    .dataframe tbody tr th {\n",
              "        vertical-align: top;\n",
              "    }\n",
              "\n",
              "    .dataframe thead th {\n",
              "        text-align: right;\n",
              "    }\n",
              "</style>\n",
              "<table border=\"1\" class=\"dataframe\">\n",
              "  <thead>\n",
              "    <tr style=\"text-align: right;\">\n",
              "      <th></th>\n",
              "      <th>User ID</th>\n",
              "      <th>User Name</th>\n",
              "      <th>Driver Name</th>\n",
              "      <th>Car Condition</th>\n",
              "      <th>Weather</th>\n",
              "      <th>Traffic Condition</th>\n",
              "      <th>key</th>\n",
              "      <th>fare_amount</th>\n",
              "      <th>pickup_datetime</th>\n",
              "      <th>pickup_longitude</th>\n",
              "      <th>...</th>\n",
              "      <th>month</th>\n",
              "      <th>weekday</th>\n",
              "      <th>year</th>\n",
              "      <th>jfk_dist</th>\n",
              "      <th>ewr_dist</th>\n",
              "      <th>lga_dist</th>\n",
              "      <th>sol_dist</th>\n",
              "      <th>nyc_dist</th>\n",
              "      <th>distance</th>\n",
              "      <th>bearing</th>\n",
              "    </tr>\n",
              "  </thead>\n",
              "  <tbody>\n",
              "    <tr>\n",
              "      <th>0</th>\n",
              "      <td>KHVrEVlD</td>\n",
              "      <td>Kimberly Adams</td>\n",
              "      <td>Amy Butler</td>\n",
              "      <td>Very Good</td>\n",
              "      <td>windy</td>\n",
              "      <td>Congested Traffic</td>\n",
              "      <td>2009-06-15 17:26:21.0000001</td>\n",
              "      <td>4.5</td>\n",
              "      <td>2009-06-15 17:26:21</td>\n",
              "      <td>-1.288826</td>\n",
              "      <td>...</td>\n",
              "      <td>6</td>\n",
              "      <td>0</td>\n",
              "      <td>2009</td>\n",
              "      <td>20.265840</td>\n",
              "      <td>55.176046</td>\n",
              "      <td>14.342611</td>\n",
              "      <td>34.543548</td>\n",
              "      <td>27.572573</td>\n",
              "      <td>1.030764</td>\n",
              "      <td>-2.918897</td>\n",
              "    </tr>\n",
              "    <tr>\n",
              "      <th>1</th>\n",
              "      <td>lPxIuEri</td>\n",
              "      <td>Justin Tapia</td>\n",
              "      <td>Hannah Zimmerman</td>\n",
              "      <td>Excellent</td>\n",
              "      <td>cloudy</td>\n",
              "      <td>Flow Traffic</td>\n",
              "      <td>2010-01-05 16:52:16.0000002</td>\n",
              "      <td>16.9</td>\n",
              "      <td>2010-01-05 16:52:16</td>\n",
              "      <td>-1.291824</td>\n",
              "      <td>...</td>\n",
              "      <td>1</td>\n",
              "      <td>1</td>\n",
              "      <td>2010</td>\n",
              "      <td>44.667679</td>\n",
              "      <td>31.832358</td>\n",
              "      <td>23.130775</td>\n",
              "      <td>15.125872</td>\n",
              "      <td>8.755732</td>\n",
              "      <td>8.450134</td>\n",
              "      <td>-0.375217</td>\n",
              "    </tr>\n",
              "    <tr>\n",
              "      <th>2</th>\n",
              "      <td>gsVN8JLS</td>\n",
              "      <td>Elizabeth Lopez</td>\n",
              "      <td>Amanda Jackson</td>\n",
              "      <td>Bad</td>\n",
              "      <td>stormy</td>\n",
              "      <td>Congested Traffic</td>\n",
              "      <td>2011-08-18 00:35:00.00000049</td>\n",
              "      <td>5.7</td>\n",
              "      <td>2011-08-18 00:35:00</td>\n",
              "      <td>-1.291242</td>\n",
              "      <td>...</td>\n",
              "      <td>8</td>\n",
              "      <td>3</td>\n",
              "      <td>2011</td>\n",
              "      <td>43.597686</td>\n",
              "      <td>33.712082</td>\n",
              "      <td>19.865289</td>\n",
              "      <td>17.722624</td>\n",
              "      <td>9.847344</td>\n",
              "      <td>1.389525</td>\n",
              "      <td>2.599961</td>\n",
              "    </tr>\n",
              "    <tr>\n",
              "      <th>3</th>\n",
              "      <td>9I7kWFgd</td>\n",
              "      <td>Steven Wilson</td>\n",
              "      <td>Amy Horn</td>\n",
              "      <td>Very Good</td>\n",
              "      <td>stormy</td>\n",
              "      <td>Flow Traffic</td>\n",
              "      <td>2012-04-21 04:30:42.0000001</td>\n",
              "      <td>7.7</td>\n",
              "      <td>2012-04-21 04:30:42</td>\n",
              "      <td>-1.291319</td>\n",
              "      <td>...</td>\n",
              "      <td>4</td>\n",
              "      <td>5</td>\n",
              "      <td>2012</td>\n",
              "      <td>42.642965</td>\n",
              "      <td>32.556289</td>\n",
              "      <td>21.063132</td>\n",
              "      <td>15.738963</td>\n",
              "      <td>7.703421</td>\n",
              "      <td>2.799270</td>\n",
              "      <td>0.133905</td>\n",
              "    </tr>\n",
              "    <tr>\n",
              "      <th>4</th>\n",
              "      <td>8QN5ZaGN</td>\n",
              "      <td>Alexander Andrews</td>\n",
              "      <td>Cassandra Larson</td>\n",
              "      <td>Bad</td>\n",
              "      <td>stormy</td>\n",
              "      <td>Congested Traffic</td>\n",
              "      <td>2010-03-09 07:51:00.000000135</td>\n",
              "      <td>5.3</td>\n",
              "      <td>2010-03-09 07:51:00</td>\n",
              "      <td>-1.290987</td>\n",
              "      <td>...</td>\n",
              "      <td>3</td>\n",
              "      <td>1</td>\n",
              "      <td>2010</td>\n",
              "      <td>43.329953</td>\n",
              "      <td>39.406828</td>\n",
              "      <td>15.219339</td>\n",
              "      <td>23.732406</td>\n",
              "      <td>15.600745</td>\n",
              "      <td>1.999157</td>\n",
              "      <td>-0.502703</td>\n",
              "    </tr>\n",
              "  </tbody>\n",
              "</table>\n",
              "<p>5 rows × 26 columns</p>\n",
              "</div>"
            ],
            "text/plain": [
              "    User ID          User Name       Driver Name Car Condition Weather  \\\n",
              "0  KHVrEVlD     Kimberly Adams        Amy Butler     Very Good   windy   \n",
              "1  lPxIuEri       Justin Tapia  Hannah Zimmerman     Excellent  cloudy   \n",
              "2  gsVN8JLS    Elizabeth Lopez    Amanda Jackson           Bad  stormy   \n",
              "3  9I7kWFgd      Steven Wilson          Amy Horn     Very Good  stormy   \n",
              "4  8QN5ZaGN  Alexander Andrews  Cassandra Larson           Bad  stormy   \n",
              "\n",
              "   Traffic Condition                            key  fare_amount  \\\n",
              "0  Congested Traffic    2009-06-15 17:26:21.0000001          4.5   \n",
              "1       Flow Traffic    2010-01-05 16:52:16.0000002         16.9   \n",
              "2  Congested Traffic   2011-08-18 00:35:00.00000049          5.7   \n",
              "3       Flow Traffic    2012-04-21 04:30:42.0000001          7.7   \n",
              "4  Congested Traffic  2010-03-09 07:51:00.000000135          5.3   \n",
              "\n",
              "       pickup_datetime  pickup_longitude  ...  month  weekday  year  \\\n",
              "0  2009-06-15 17:26:21         -1.288826  ...      6        0  2009   \n",
              "1  2010-01-05 16:52:16         -1.291824  ...      1        1  2010   \n",
              "2  2011-08-18 00:35:00         -1.291242  ...      8        3  2011   \n",
              "3  2012-04-21 04:30:42         -1.291319  ...      4        5  2012   \n",
              "4  2010-03-09 07:51:00         -1.290987  ...      3        1  2010   \n",
              "\n",
              "    jfk_dist   ewr_dist   lga_dist   sol_dist   nyc_dist  distance   bearing  \n",
              "0  20.265840  55.176046  14.342611  34.543548  27.572573  1.030764 -2.918897  \n",
              "1  44.667679  31.832358  23.130775  15.125872   8.755732  8.450134 -0.375217  \n",
              "2  43.597686  33.712082  19.865289  17.722624   9.847344  1.389525  2.599961  \n",
              "3  42.642965  32.556289  21.063132  15.738963   7.703421  2.799270  0.133905  \n",
              "4  43.329953  39.406828  15.219339  23.732406  15.600745  1.999157 -0.502703  \n",
              "\n",
              "[5 rows x 26 columns]"
            ]
          },
          "execution_count": 3,
          "metadata": {},
          "output_type": "execute_result"
        }
      ],
      "source": [
        "dt.head()"
      ]
    },
    {
      "cell_type": "code",
      "execution_count": 4,
      "metadata": {
        "colab": {
          "base_uri": "https://localhost:8080/"
        },
        "id": "930BcYXpdfvS",
        "outputId": "138878a0-d0f3-4603-a0bb-a8cde15a6a07"
      },
      "outputs": [
        {
          "data": {
            "text/plain": [
              "500000"
            ]
          },
          "execution_count": 4,
          "metadata": {},
          "output_type": "execute_result"
        }
      ],
      "source": [
        "len(dt)"
      ]
    },
    {
      "cell_type": "code",
      "execution_count": 5,
      "metadata": {
        "colab": {
          "base_uri": "https://localhost:8080/"
        },
        "id": "ucXQ1uhrdfyB",
        "outputId": "bdb45d12-fdd6-4a8d-f134-d7d5a11b50a8"
      },
      "outputs": [
        {
          "data": {
            "text/plain": [
              "Index(['User ID', 'User Name', 'Driver Name', 'Car Condition', 'Weather',\n",
              "       'Traffic Condition', 'key', 'fare_amount', 'pickup_datetime',\n",
              "       'pickup_longitude', 'pickup_latitude', 'dropoff_longitude',\n",
              "       'dropoff_latitude', 'passenger_count', 'hour', 'day', 'month',\n",
              "       'weekday', 'year', 'jfk_dist', 'ewr_dist', 'lga_dist', 'sol_dist',\n",
              "       'nyc_dist', 'distance', 'bearing'],\n",
              "      dtype='object')"
            ]
          },
          "execution_count": 5,
          "metadata": {},
          "output_type": "execute_result"
        }
      ],
      "source": [
        "dt.columns"
      ]
    },
    {
      "cell_type": "code",
      "execution_count": 6,
      "metadata": {
        "colab": {
          "base_uri": "https://localhost:8080/",
          "height": 320
        },
        "id": "co3i_JSqdf0t",
        "outputId": "805c98a1-493d-49c3-e350-ac4cc60b13b2"
      },
      "outputs": [
        {
          "data": {
            "text/html": [
              "<div>\n",
              "<style scoped>\n",
              "    .dataframe tbody tr th:only-of-type {\n",
              "        vertical-align: middle;\n",
              "    }\n",
              "\n",
              "    .dataframe tbody tr th {\n",
              "        vertical-align: top;\n",
              "    }\n",
              "\n",
              "    .dataframe thead th {\n",
              "        text-align: right;\n",
              "    }\n",
              "</style>\n",
              "<table border=\"1\" class=\"dataframe\">\n",
              "  <thead>\n",
              "    <tr style=\"text-align: right;\">\n",
              "      <th></th>\n",
              "      <th>fare_amount</th>\n",
              "      <th>pickup_longitude</th>\n",
              "      <th>pickup_latitude</th>\n",
              "      <th>dropoff_longitude</th>\n",
              "      <th>dropoff_latitude</th>\n",
              "      <th>passenger_count</th>\n",
              "      <th>hour</th>\n",
              "      <th>day</th>\n",
              "      <th>month</th>\n",
              "      <th>weekday</th>\n",
              "      <th>year</th>\n",
              "      <th>jfk_dist</th>\n",
              "      <th>ewr_dist</th>\n",
              "      <th>lga_dist</th>\n",
              "      <th>sol_dist</th>\n",
              "      <th>nyc_dist</th>\n",
              "      <th>distance</th>\n",
              "      <th>bearing</th>\n",
              "    </tr>\n",
              "  </thead>\n",
              "  <tbody>\n",
              "    <tr>\n",
              "      <th>count</th>\n",
              "      <td>500000.000000</td>\n",
              "      <td>500000.000000</td>\n",
              "      <td>500000.000000</td>\n",
              "      <td>499995.000000</td>\n",
              "      <td>499995.000000</td>\n",
              "      <td>500000.000000</td>\n",
              "      <td>500000.000000</td>\n",
              "      <td>500000.000000</td>\n",
              "      <td>500000.000000</td>\n",
              "      <td>500000.000000</td>\n",
              "      <td>500000.000000</td>\n",
              "      <td>499995.000000</td>\n",
              "      <td>499995.000000</td>\n",
              "      <td>499995.000000</td>\n",
              "      <td>499995.000000</td>\n",
              "      <td>499995.000000</td>\n",
              "      <td>499995.000000</td>\n",
              "      <td>499995.000000</td>\n",
              "    </tr>\n",
              "    <tr>\n",
              "      <th>mean</th>\n",
              "      <td>11.358361</td>\n",
              "      <td>-1.265712</td>\n",
              "      <td>0.696740</td>\n",
              "      <td>-1.265755</td>\n",
              "      <td>0.696675</td>\n",
              "      <td>1.683428</td>\n",
              "      <td>13.510834</td>\n",
              "      <td>15.684206</td>\n",
              "      <td>6.268650</td>\n",
              "      <td>3.042008</td>\n",
              "      <td>2011.739132</td>\n",
              "      <td>385.279367</td>\n",
              "      <td>380.503657</td>\n",
              "      <td>363.843772</td>\n",
              "      <td>363.674038</td>\n",
              "      <td>355.991423</td>\n",
              "      <td>19.468775</td>\n",
              "      <td>0.297145</td>\n",
              "    </tr>\n",
              "    <tr>\n",
              "      <th>std</th>\n",
              "      <td>9.916617</td>\n",
              "      <td>0.206941</td>\n",
              "      <td>0.140909</td>\n",
              "      <td>0.205903</td>\n",
              "      <td>0.128997</td>\n",
              "      <td>1.307395</td>\n",
              "      <td>6.511571</td>\n",
              "      <td>8.681066</td>\n",
              "      <td>3.437815</td>\n",
              "      <td>1.949240</td>\n",
              "      <td>1.860889</td>\n",
              "      <td>2419.087483</td>\n",
              "      <td>2428.804740</td>\n",
              "      <td>2425.075903</td>\n",
              "      <td>2428.348683</td>\n",
              "      <td>2428.730839</td>\n",
              "      <td>367.299601</td>\n",
              "      <td>1.804548</td>\n",
              "    </tr>\n",
              "    <tr>\n",
              "      <th>min</th>\n",
              "      <td>-44.900000</td>\n",
              "      <td>-52.119764</td>\n",
              "      <td>-54.389440</td>\n",
              "      <td>-59.049665</td>\n",
              "      <td>-44.676047</td>\n",
              "      <td>0.000000</td>\n",
              "      <td>0.000000</td>\n",
              "      <td>1.000000</td>\n",
              "      <td>1.000000</td>\n",
              "      <td>0.000000</td>\n",
              "      <td>2009.000000</td>\n",
              "      <td>1.017646</td>\n",
              "      <td>1.460945</td>\n",
              "      <td>0.382119</td>\n",
              "      <td>0.532545</td>\n",
              "      <td>0.080500</td>\n",
              "      <td>0.000000</td>\n",
              "      <td>-3.141593</td>\n",
              "    </tr>\n",
              "    <tr>\n",
              "      <th>25%</th>\n",
              "      <td>6.000000</td>\n",
              "      <td>-1.291405</td>\n",
              "      <td>0.710958</td>\n",
              "      <td>-1.291393</td>\n",
              "      <td>0.710943</td>\n",
              "      <td>1.000000</td>\n",
              "      <td>9.000000</td>\n",
              "      <td>8.000000</td>\n",
              "      <td>3.000000</td>\n",
              "      <td>1.000000</td>\n",
              "      <td>2010.000000</td>\n",
              "      <td>41.341514</td>\n",
              "      <td>32.173712</td>\n",
              "      <td>17.100762</td>\n",
              "      <td>14.886989</td>\n",
              "      <td>7.147384</td>\n",
              "      <td>1.214550</td>\n",
              "      <td>-0.854721</td>\n",
              "    </tr>\n",
              "    <tr>\n",
              "      <th>50%</th>\n",
              "      <td>8.500000</td>\n",
              "      <td>-1.291226</td>\n",
              "      <td>0.711268</td>\n",
              "      <td>-1.291197</td>\n",
              "      <td>0.711277</td>\n",
              "      <td>1.000000</td>\n",
              "      <td>14.000000</td>\n",
              "      <td>16.000000</td>\n",
              "      <td>6.000000</td>\n",
              "      <td>3.000000</td>\n",
              "      <td>2012.000000</td>\n",
              "      <td>42.523163</td>\n",
              "      <td>34.787507</td>\n",
              "      <td>19.591554</td>\n",
              "      <td>18.347580</td>\n",
              "      <td>10.458151</td>\n",
              "      <td>2.116970</td>\n",
              "      <td>-0.050442</td>\n",
              "    </tr>\n",
              "    <tr>\n",
              "      <th>75%</th>\n",
              "      <td>12.500000</td>\n",
              "      <td>-1.290970</td>\n",
              "      <td>0.711520</td>\n",
              "      <td>-1.290908</td>\n",
              "      <td>0.711538</td>\n",
              "      <td>2.000000</td>\n",
              "      <td>19.000000</td>\n",
              "      <td>23.000000</td>\n",
              "      <td>9.000000</td>\n",
              "      <td>5.000000</td>\n",
              "      <td>2013.000000</td>\n",
              "      <td>43.785649</td>\n",
              "      <td>38.304502</td>\n",
              "      <td>22.214815</td>\n",
              "      <td>22.417812</td>\n",
              "      <td>14.448699</td>\n",
              "      <td>3.890070</td>\n",
              "      <td>2.206769</td>\n",
              "    </tr>\n",
              "    <tr>\n",
              "      <th>max</th>\n",
              "      <td>500.000000</td>\n",
              "      <td>37.360538</td>\n",
              "      <td>29.724576</td>\n",
              "      <td>0.712985</td>\n",
              "      <td>7.061893</td>\n",
              "      <td>6.000000</td>\n",
              "      <td>23.000000</td>\n",
              "      <td>31.000000</td>\n",
              "      <td>12.000000</td>\n",
              "      <td>6.000000</td>\n",
              "      <td>2015.000000</td>\n",
              "      <td>30133.067880</td>\n",
              "      <td>30167.595967</td>\n",
              "      <td>30167.285794</td>\n",
              "      <td>30159.407296</td>\n",
              "      <td>30162.285356</td>\n",
              "      <td>12399.956433</td>\n",
              "      <td>3.141593</td>\n",
              "    </tr>\n",
              "  </tbody>\n",
              "</table>\n",
              "</div>"
            ],
            "text/plain": [
              "         fare_amount  pickup_longitude  pickup_latitude  dropoff_longitude  \\\n",
              "count  500000.000000     500000.000000    500000.000000      499995.000000   \n",
              "mean       11.358361         -1.265712         0.696740          -1.265755   \n",
              "std         9.916617          0.206941         0.140909           0.205903   \n",
              "min       -44.900000        -52.119764       -54.389440         -59.049665   \n",
              "25%         6.000000         -1.291405         0.710958          -1.291393   \n",
              "50%         8.500000         -1.291226         0.711268          -1.291197   \n",
              "75%        12.500000         -1.290970         0.711520          -1.290908   \n",
              "max       500.000000         37.360538        29.724576           0.712985   \n",
              "\n",
              "       dropoff_latitude  passenger_count           hour            day  \\\n",
              "count     499995.000000    500000.000000  500000.000000  500000.000000   \n",
              "mean           0.696675         1.683428      13.510834      15.684206   \n",
              "std            0.128997         1.307395       6.511571       8.681066   \n",
              "min          -44.676047         0.000000       0.000000       1.000000   \n",
              "25%            0.710943         1.000000       9.000000       8.000000   \n",
              "50%            0.711277         1.000000      14.000000      16.000000   \n",
              "75%            0.711538         2.000000      19.000000      23.000000   \n",
              "max            7.061893         6.000000      23.000000      31.000000   \n",
              "\n",
              "               month        weekday           year       jfk_dist  \\\n",
              "count  500000.000000  500000.000000  500000.000000  499995.000000   \n",
              "mean        6.268650       3.042008    2011.739132     385.279367   \n",
              "std         3.437815       1.949240       1.860889    2419.087483   \n",
              "min         1.000000       0.000000    2009.000000       1.017646   \n",
              "25%         3.000000       1.000000    2010.000000      41.341514   \n",
              "50%         6.000000       3.000000    2012.000000      42.523163   \n",
              "75%         9.000000       5.000000    2013.000000      43.785649   \n",
              "max        12.000000       6.000000    2015.000000   30133.067880   \n",
              "\n",
              "            ewr_dist       lga_dist       sol_dist       nyc_dist  \\\n",
              "count  499995.000000  499995.000000  499995.000000  499995.000000   \n",
              "mean      380.503657     363.843772     363.674038     355.991423   \n",
              "std      2428.804740    2425.075903    2428.348683    2428.730839   \n",
              "min         1.460945       0.382119       0.532545       0.080500   \n",
              "25%        32.173712      17.100762      14.886989       7.147384   \n",
              "50%        34.787507      19.591554      18.347580      10.458151   \n",
              "75%        38.304502      22.214815      22.417812      14.448699   \n",
              "max     30167.595967   30167.285794   30159.407296   30162.285356   \n",
              "\n",
              "            distance        bearing  \n",
              "count  499995.000000  499995.000000  \n",
              "mean       19.468775       0.297145  \n",
              "std       367.299601       1.804548  \n",
              "min         0.000000      -3.141593  \n",
              "25%         1.214550      -0.854721  \n",
              "50%         2.116970      -0.050442  \n",
              "75%         3.890070       2.206769  \n",
              "max     12399.956433       3.141593  "
            ]
          },
          "execution_count": 6,
          "metadata": {},
          "output_type": "execute_result"
        }
      ],
      "source": [
        "# suumery statistics\n",
        "dt.describe()"
      ]
    },
    {
      "cell_type": "code",
      "execution_count": 7,
      "metadata": {
        "colab": {
          "base_uri": "https://localhost:8080/"
        },
        "id": "flOJobTudf3D",
        "outputId": "34aefd00-bae9-40f2-fdf7-ee74a6a4f364"
      },
      "outputs": [
        {
          "data": {
            "text/plain": [
              "(500000, 26)"
            ]
          },
          "execution_count": 7,
          "metadata": {},
          "output_type": "execute_result"
        }
      ],
      "source": [
        "dt.shape"
      ]
    },
    {
      "cell_type": "code",
      "execution_count": 8,
      "metadata": {
        "colab": {
          "base_uri": "https://localhost:8080/"
        },
        "id": "04wongsJdf55",
        "outputId": "6d5a2964-46b1-4d10-e914-7cf28d3b2151"
      },
      "outputs": [
        {
          "name": "stdout",
          "output_type": "stream",
          "text": [
            "<class 'pandas.core.frame.DataFrame'>\n",
            "RangeIndex: 500000 entries, 0 to 499999\n",
            "Data columns (total 26 columns):\n",
            " #   Column             Non-Null Count   Dtype  \n",
            "---  ------             --------------   -----  \n",
            " 0   User ID            500000 non-null  object \n",
            " 1   User Name          500000 non-null  object \n",
            " 2   Driver Name        500000 non-null  object \n",
            " 3   Car Condition      500000 non-null  object \n",
            " 4   Weather            500000 non-null  object \n",
            " 5   Traffic Condition  500000 non-null  object \n",
            " 6   key                500000 non-null  object \n",
            " 7   fare_amount        500000 non-null  float64\n",
            " 8   pickup_datetime    500000 non-null  object \n",
            " 9   pickup_longitude   500000 non-null  float64\n",
            " 10  pickup_latitude    500000 non-null  float64\n",
            " 11  dropoff_longitude  499995 non-null  float64\n",
            " 12  dropoff_latitude   499995 non-null  float64\n",
            " 13  passenger_count    500000 non-null  int64  \n",
            " 14  hour               500000 non-null  int64  \n",
            " 15  day                500000 non-null  int64  \n",
            " 16  month              500000 non-null  int64  \n",
            " 17  weekday            500000 non-null  int64  \n",
            " 18  year               500000 non-null  int64  \n",
            " 19  jfk_dist           499995 non-null  float64\n",
            " 20  ewr_dist           499995 non-null  float64\n",
            " 21  lga_dist           499995 non-null  float64\n",
            " 22  sol_dist           499995 non-null  float64\n",
            " 23  nyc_dist           499995 non-null  float64\n",
            " 24  distance           499995 non-null  float64\n",
            " 25  bearing            499995 non-null  float64\n",
            "dtypes: float64(12), int64(6), object(8)\n",
            "memory usage: 99.2+ MB\n"
          ]
        }
      ],
      "source": [
        "dt.info()"
      ]
    },
    {
      "cell_type": "code",
      "execution_count": 9,
      "metadata": {
        "id": "Xk57LNYtuqqx"
      },
      "outputs": [],
      "source": [
        "# Use a sample of the dataset (e.g., 30% of the data)\n",
        "sample_size = 0.3  # You can adjust the sample size as needed\n",
        "dt_sample = dt.sample(frac=sample_size, random_state=42)"
      ]
    },
    {
      "cell_type": "code",
      "execution_count": 10,
      "metadata": {
        "colab": {
          "base_uri": "https://localhost:8080/"
        },
        "id": "QQGybb7Fdf8v",
        "outputId": "149466df-85dd-4c6b-cda4-0a46f5520a00"
      },
      "outputs": [
        {
          "name": "stdout",
          "output_type": "stream",
          "text": [
            "Initial Missing Values:\n",
            "User ID              0\n",
            "User Name            0\n",
            "Driver Name          0\n",
            "Car Condition        0\n",
            "Weather              0\n",
            "Traffic Condition    0\n",
            "key                  0\n",
            "fare_amount          0\n",
            "pickup_datetime      0\n",
            "pickup_longitude     0\n",
            "pickup_latitude      0\n",
            "dropoff_longitude    1\n",
            "dropoff_latitude     1\n",
            "passenger_count      0\n",
            "hour                 0\n",
            "day                  0\n",
            "month                0\n",
            "weekday              0\n",
            "year                 0\n",
            "jfk_dist             1\n",
            "ewr_dist             1\n",
            "lga_dist             1\n",
            "sol_dist             1\n",
            "nyc_dist             1\n",
            "distance             1\n",
            "bearing              1\n",
            "dtype: int64\n"
          ]
        }
      ],
      "source": [
        "# Handle missing values\n",
        "print(\"Initial Missing Values:\")\n",
        "print(dt_sample.isnull().sum())"
      ]
    },
    {
      "cell_type": "code",
      "execution_count": 11,
      "metadata": {
        "id": "lW3gSVvPdf_a"
      },
      "outputs": [],
      "source": [
        "# Numerical and categorical columns\n",
        "numerical_cols = dt_sample.select_dtypes(include=['float64', 'int64']).columns.tolist()\n",
        "categorical_cols = ['Car Condition', 'Weather', 'Traffic Condition']"
      ]
    },
    {
      "cell_type": "markdown",
      "metadata": {
        "id": "ojsJBDOLeJsq"
      },
      "source": [
        "# 2. Advanced Missing Value Imputation"
      ]
    },
    {
      "cell_type": "code",
      "execution_count": 12,
      "metadata": {
        "id": "uUHogcvAdgCQ"
      },
      "outputs": [],
      "source": [
        "# Impute missing numerical values with median and categorical with mode\n",
        "num_imputer = SimpleImputer(strategy='median')\n",
        "cat_imputer = SimpleImputer(strategy='most_frequent')\n",
        "\n",
        "dt_sample[numerical_cols] = num_imputer.fit_transform(dt_sample[numerical_cols])\n",
        "dt_sample[categorical_cols] = cat_imputer.fit_transform(dt_sample[categorical_cols])"
      ]
    },
    {
      "cell_type": "code",
      "execution_count": 13,
      "metadata": {
        "colab": {
          "base_uri": "https://localhost:8080/"
        },
        "id": "gJ_JLxoweNTZ",
        "outputId": "862d2e76-305b-4557-a159-c782b669d6e2"
      },
      "outputs": [
        {
          "name": "stdout",
          "output_type": "stream",
          "text": [
            "\n",
            "Missing Values After Imputation:\n",
            "User ID              0\n",
            "User Name            0\n",
            "Driver Name          0\n",
            "Car Condition        0\n",
            "Weather              0\n",
            "Traffic Condition    0\n",
            "key                  0\n",
            "fare_amount          0\n",
            "pickup_datetime      0\n",
            "pickup_longitude     0\n",
            "pickup_latitude      0\n",
            "dropoff_longitude    0\n",
            "dropoff_latitude     0\n",
            "passenger_count      0\n",
            "hour                 0\n",
            "day                  0\n",
            "month                0\n",
            "weekday              0\n",
            "year                 0\n",
            "jfk_dist             0\n",
            "ewr_dist             0\n",
            "lga_dist             0\n",
            "sol_dist             0\n",
            "nyc_dist             0\n",
            "distance             0\n",
            "bearing              0\n",
            "dtype: int64\n"
          ]
        }
      ],
      "source": [
        "print(\"\\nMissing Values After Imputation:\")\n",
        "print(dt_sample.isnull().sum())"
      ]
    },
    {
      "cell_type": "code",
      "execution_count": 14,
      "metadata": {
        "id": "yyH5JSC1eNWQ"
      },
      "outputs": [],
      "source": [
        "# Handle outliers using Robust Scaler to make the model less sensitive to outliers\n",
        "# scaler = RobustScaler()\n",
        "# dt_sample[numerical_cols] = scaler.fit_transform(dt_sample[numerical_cols])"
      ]
    },
    {
      "cell_type": "markdown",
      "metadata": {
        "id": "17iSupK7egM3"
      },
      "source": [
        "# 3. Feature Engineering"
      ]
    },
    {
      "cell_type": "code",
      "execution_count": 15,
      "metadata": {
        "id": "x-_HuMGldgE2"
      },
      "outputs": [],
      "source": [
        "# Extract new features from 'pickup_datetime'\n",
        "dt_sample['pickup_datetime'] = pd.to_datetime(dt_sample['pickup_datetime'])\n",
        "dt_sample['hour'] = dt_sample['pickup_datetime'].dt.hour\n",
        "dt_sample['day_of_week'] = dt_sample['pickup_datetime'].dt.weekday"
      ]
    },
    {
      "cell_type": "code",
      "execution_count": 16,
      "metadata": {
        "id": "mzmAvHewejjo"
      },
      "outputs": [],
      "source": [
        "# Drop unnecessary columns\n",
        "X = dt_sample.drop(columns=['fare_amount','User ID', 'User Name', 'Driver Name', 'pickup_datetime', 'key'])\n",
        "y = dt_sample['fare_amount']"
      ]
    },
    {
      "cell_type": "code",
      "execution_count": 17,
      "metadata": {
        "colab": {
          "base_uri": "https://localhost:8080/"
        },
        "id": "6PKLCdZduGWB",
        "outputId": "293cd96a-9641-4a00-f677-e68c91c7c494"
      },
      "outputs": [
        {
          "data": {
            "text/plain": [
              "Index(['Car Condition', 'Weather', 'Traffic Condition', 'pickup_longitude',\n",
              "       'pickup_latitude', 'dropoff_longitude', 'dropoff_latitude',\n",
              "       'passenger_count', 'hour', 'day', 'month', 'weekday', 'year',\n",
              "       'jfk_dist', 'ewr_dist', 'lga_dist', 'sol_dist', 'nyc_dist', 'distance',\n",
              "       'bearing', 'day_of_week'],\n",
              "      dtype='object')"
            ]
          },
          "execution_count": 17,
          "metadata": {},
          "output_type": "execute_result"
        }
      ],
      "source": [
        "X.columns"
      ]
    },
    {
      "cell_type": "code",
      "execution_count": 18,
      "metadata": {
        "id": "zbjvB0x9yEHI"
      },
      "outputs": [],
      "source": [
        "numerical_cols=[ 'pickup_longitude',\n",
        "       'pickup_latitude', 'dropoff_longitude', 'dropoff_latitude',\n",
        "       'passenger_count', 'hour', 'day', 'month', 'weekday', 'year',\n",
        "       'jfk_dist', 'ewr_dist', 'lga_dist', 'sol_dist', 'nyc_dist', 'distance',\n",
        "       'bearing', 'day_of_week']"
      ]
    },
    {
      "cell_type": "markdown",
      "metadata": {
        "id": "IOn3kV5Feoht"
      },
      "source": [
        "# 4. Feature Scaling and One-Hot Encoding"
      ]
    },
    {
      "cell_type": "code",
      "execution_count": 19,
      "metadata": {
        "colab": {
          "base_uri": "https://localhost:8080/",
          "height": 478
        },
        "id": "Oq9Wj0wgejmD",
        "outputId": "3279c88b-d08c-44e5-d4b8-e8471e6dbbe1"
      },
      "outputs": [
        {
          "data": {
            "text/html": [
              "<div>\n",
              "<style scoped>\n",
              "    .dataframe tbody tr th:only-of-type {\n",
              "        vertical-align: middle;\n",
              "    }\n",
              "\n",
              "    .dataframe tbody tr th {\n",
              "        vertical-align: top;\n",
              "    }\n",
              "\n",
              "    .dataframe thead th {\n",
              "        text-align: right;\n",
              "    }\n",
              "</style>\n",
              "<table border=\"1\" class=\"dataframe\">\n",
              "  <thead>\n",
              "    <tr style=\"text-align: right;\">\n",
              "      <th></th>\n",
              "      <th>pickup_longitude</th>\n",
              "      <th>pickup_latitude</th>\n",
              "      <th>dropoff_longitude</th>\n",
              "      <th>dropoff_latitude</th>\n",
              "      <th>passenger_count</th>\n",
              "      <th>hour</th>\n",
              "      <th>day</th>\n",
              "      <th>month</th>\n",
              "      <th>weekday</th>\n",
              "      <th>year</th>\n",
              "      <th>...</th>\n",
              "      <th>day_of_week</th>\n",
              "      <th>Car Condition_Excellent</th>\n",
              "      <th>Car Condition_Good</th>\n",
              "      <th>Car Condition_Very Good</th>\n",
              "      <th>Weather_rainy</th>\n",
              "      <th>Weather_stormy</th>\n",
              "      <th>Weather_sunny</th>\n",
              "      <th>Weather_windy</th>\n",
              "      <th>Traffic Condition_Dense Traffic</th>\n",
              "      <th>Traffic Condition_Flow Traffic</th>\n",
              "    </tr>\n",
              "  </thead>\n",
              "  <tbody>\n",
              "    <tr>\n",
              "      <th>0</th>\n",
              "      <td>-0.088194</td>\n",
              "      <td>0.064012</td>\n",
              "      <td>-0.093301</td>\n",
              "      <td>0.089885</td>\n",
              "      <td>-0.524747</td>\n",
              "      <td>0.688763</td>\n",
              "      <td>1.534128</td>\n",
              "      <td>0.214780</td>\n",
              "      <td>-0.535590</td>\n",
              "      <td>-1.468651</td>\n",
              "      <td>...</td>\n",
              "      <td>-0.535590</td>\n",
              "      <td>0.0</td>\n",
              "      <td>1.0</td>\n",
              "      <td>0.0</td>\n",
              "      <td>0.0</td>\n",
              "      <td>0.0</td>\n",
              "      <td>1.0</td>\n",
              "      <td>0.0</td>\n",
              "      <td>0.0</td>\n",
              "      <td>0.0</td>\n",
              "    </tr>\n",
              "    <tr>\n",
              "      <th>1</th>\n",
              "      <td>-0.100552</td>\n",
              "      <td>0.075502</td>\n",
              "      <td>-0.099520</td>\n",
              "      <td>0.089778</td>\n",
              "      <td>-0.524747</td>\n",
              "      <td>-0.848696</td>\n",
              "      <td>0.613873</td>\n",
              "      <td>-0.658381</td>\n",
              "      <td>-1.562340</td>\n",
              "      <td>1.213392</td>\n",
              "      <td>...</td>\n",
              "      <td>-1.562340</td>\n",
              "      <td>0.0</td>\n",
              "      <td>0.0</td>\n",
              "      <td>0.0</td>\n",
              "      <td>1.0</td>\n",
              "      <td>0.0</td>\n",
              "      <td>0.0</td>\n",
              "      <td>0.0</td>\n",
              "      <td>0.0</td>\n",
              "      <td>1.0</td>\n",
              "    </tr>\n",
              "    <tr>\n",
              "      <th>2</th>\n",
              "      <td>-0.100985</td>\n",
              "      <td>0.074270</td>\n",
              "      <td>-0.099353</td>\n",
              "      <td>0.091410</td>\n",
              "      <td>-0.524747</td>\n",
              "      <td>-0.233712</td>\n",
              "      <td>1.074001</td>\n",
              "      <td>0.214780</td>\n",
              "      <td>-1.562340</td>\n",
              "      <td>-0.395834</td>\n",
              "      <td>...</td>\n",
              "      <td>-1.562340</td>\n",
              "      <td>0.0</td>\n",
              "      <td>1.0</td>\n",
              "      <td>0.0</td>\n",
              "      <td>0.0</td>\n",
              "      <td>0.0</td>\n",
              "      <td>0.0</td>\n",
              "      <td>0.0</td>\n",
              "      <td>1.0</td>\n",
              "      <td>0.0</td>\n",
              "    </tr>\n",
              "    <tr>\n",
              "      <th>3</th>\n",
              "      <td>5.135157</td>\n",
              "      <td>-3.509793</td>\n",
              "      <td>5.183554</td>\n",
              "      <td>-4.152960</td>\n",
              "      <td>-0.524747</td>\n",
              "      <td>0.073780</td>\n",
              "      <td>-1.456701</td>\n",
              "      <td>0.214780</td>\n",
              "      <td>-0.535590</td>\n",
              "      <td>0.676984</td>\n",
              "      <td>...</td>\n",
              "      <td>-0.535590</td>\n",
              "      <td>1.0</td>\n",
              "      <td>0.0</td>\n",
              "      <td>0.0</td>\n",
              "      <td>0.0</td>\n",
              "      <td>1.0</td>\n",
              "      <td>0.0</td>\n",
              "      <td>0.0</td>\n",
              "      <td>1.0</td>\n",
              "      <td>0.0</td>\n",
              "    </tr>\n",
              "    <tr>\n",
              "      <th>4</th>\n",
              "      <td>-0.102533</td>\n",
              "      <td>0.073719</td>\n",
              "      <td>-0.093722</td>\n",
              "      <td>0.090605</td>\n",
              "      <td>0.239529</td>\n",
              "      <td>0.535017</td>\n",
              "      <td>0.498841</td>\n",
              "      <td>-0.949435</td>\n",
              "      <td>1.517909</td>\n",
              "      <td>-0.395834</td>\n",
              "      <td>...</td>\n",
              "      <td>1.517909</td>\n",
              "      <td>0.0</td>\n",
              "      <td>0.0</td>\n",
              "      <td>1.0</td>\n",
              "      <td>0.0</td>\n",
              "      <td>1.0</td>\n",
              "      <td>0.0</td>\n",
              "      <td>0.0</td>\n",
              "      <td>1.0</td>\n",
              "      <td>0.0</td>\n",
              "    </tr>\n",
              "    <tr>\n",
              "      <th>...</th>\n",
              "      <td>...</td>\n",
              "      <td>...</td>\n",
              "      <td>...</td>\n",
              "      <td>...</td>\n",
              "      <td>...</td>\n",
              "      <td>...</td>\n",
              "      <td>...</td>\n",
              "      <td>...</td>\n",
              "      <td>...</td>\n",
              "      <td>...</td>\n",
              "      <td>...</td>\n",
              "      <td>...</td>\n",
              "      <td>...</td>\n",
              "      <td>...</td>\n",
              "      <td>...</td>\n",
              "      <td>...</td>\n",
              "      <td>...</td>\n",
              "      <td>...</td>\n",
              "      <td>...</td>\n",
              "      <td>...</td>\n",
              "      <td>...</td>\n",
              "    </tr>\n",
              "    <tr>\n",
              "      <th>149995</th>\n",
              "      <td>-0.101990</td>\n",
              "      <td>0.071923</td>\n",
              "      <td>-0.102215</td>\n",
              "      <td>0.086885</td>\n",
              "      <td>-0.524747</td>\n",
              "      <td>-0.541204</td>\n",
              "      <td>1.419097</td>\n",
              "      <td>-1.531543</td>\n",
              "      <td>-0.535590</td>\n",
              "      <td>1.749801</td>\n",
              "      <td>...</td>\n",
              "      <td>-0.535590</td>\n",
              "      <td>0.0</td>\n",
              "      <td>1.0</td>\n",
              "      <td>0.0</td>\n",
              "      <td>0.0</td>\n",
              "      <td>1.0</td>\n",
              "      <td>0.0</td>\n",
              "      <td>0.0</td>\n",
              "      <td>1.0</td>\n",
              "      <td>0.0</td>\n",
              "    </tr>\n",
              "    <tr>\n",
              "      <th>149996</th>\n",
              "      <td>-0.095868</td>\n",
              "      <td>0.072805</td>\n",
              "      <td>-0.099558</td>\n",
              "      <td>0.089715</td>\n",
              "      <td>-0.524747</td>\n",
              "      <td>-1.002441</td>\n",
              "      <td>0.038714</td>\n",
              "      <td>-0.367327</td>\n",
              "      <td>-0.022215</td>\n",
              "      <td>0.676984</td>\n",
              "      <td>...</td>\n",
              "      <td>-0.022215</td>\n",
              "      <td>0.0</td>\n",
              "      <td>1.0</td>\n",
              "      <td>0.0</td>\n",
              "      <td>0.0</td>\n",
              "      <td>1.0</td>\n",
              "      <td>0.0</td>\n",
              "      <td>0.0</td>\n",
              "      <td>0.0</td>\n",
              "      <td>1.0</td>\n",
              "    </tr>\n",
              "    <tr>\n",
              "      <th>149997</th>\n",
              "      <td>-0.101942</td>\n",
              "      <td>0.073652</td>\n",
              "      <td>-0.101729</td>\n",
              "      <td>0.089077</td>\n",
              "      <td>-0.524747</td>\n",
              "      <td>0.073780</td>\n",
              "      <td>-0.076318</td>\n",
              "      <td>-0.949435</td>\n",
              "      <td>-1.048965</td>\n",
              "      <td>-0.395834</td>\n",
              "      <td>...</td>\n",
              "      <td>-1.048965</td>\n",
              "      <td>0.0</td>\n",
              "      <td>0.0</td>\n",
              "      <td>0.0</td>\n",
              "      <td>0.0</td>\n",
              "      <td>1.0</td>\n",
              "      <td>0.0</td>\n",
              "      <td>0.0</td>\n",
              "      <td>0.0</td>\n",
              "      <td>0.0</td>\n",
              "    </tr>\n",
              "    <tr>\n",
              "      <th>149998</th>\n",
              "      <td>-0.101197</td>\n",
              "      <td>0.074190</td>\n",
              "      <td>-0.099416</td>\n",
              "      <td>0.090035</td>\n",
              "      <td>0.239529</td>\n",
              "      <td>1.303746</td>\n",
              "      <td>-1.226637</td>\n",
              "      <td>-0.076274</td>\n",
              "      <td>-0.022215</td>\n",
              "      <td>1.213392</td>\n",
              "      <td>...</td>\n",
              "      <td>-0.022215</td>\n",
              "      <td>1.0</td>\n",
              "      <td>0.0</td>\n",
              "      <td>0.0</td>\n",
              "      <td>0.0</td>\n",
              "      <td>1.0</td>\n",
              "      <td>0.0</td>\n",
              "      <td>0.0</td>\n",
              "      <td>1.0</td>\n",
              "      <td>0.0</td>\n",
              "    </tr>\n",
              "    <tr>\n",
              "      <th>149999</th>\n",
              "      <td>-0.104574</td>\n",
              "      <td>0.069380</td>\n",
              "      <td>-0.103218</td>\n",
              "      <td>0.085531</td>\n",
              "      <td>-0.524747</td>\n",
              "      <td>0.381271</td>\n",
              "      <td>1.764192</td>\n",
              "      <td>1.087942</td>\n",
              "      <td>1.004534</td>\n",
              "      <td>-1.468651</td>\n",
              "      <td>...</td>\n",
              "      <td>1.004534</td>\n",
              "      <td>1.0</td>\n",
              "      <td>0.0</td>\n",
              "      <td>0.0</td>\n",
              "      <td>0.0</td>\n",
              "      <td>1.0</td>\n",
              "      <td>0.0</td>\n",
              "      <td>0.0</td>\n",
              "      <td>0.0</td>\n",
              "      <td>0.0</td>\n",
              "    </tr>\n",
              "  </tbody>\n",
              "</table>\n",
              "<p>150000 rows × 27 columns</p>\n",
              "</div>"
            ],
            "text/plain": [
              "        pickup_longitude  pickup_latitude  dropoff_longitude  \\\n",
              "0              -0.088194         0.064012          -0.093301   \n",
              "1              -0.100552         0.075502          -0.099520   \n",
              "2              -0.100985         0.074270          -0.099353   \n",
              "3               5.135157        -3.509793           5.183554   \n",
              "4              -0.102533         0.073719          -0.093722   \n",
              "...                  ...              ...                ...   \n",
              "149995         -0.101990         0.071923          -0.102215   \n",
              "149996         -0.095868         0.072805          -0.099558   \n",
              "149997         -0.101942         0.073652          -0.101729   \n",
              "149998         -0.101197         0.074190          -0.099416   \n",
              "149999         -0.104574         0.069380          -0.103218   \n",
              "\n",
              "        dropoff_latitude  passenger_count      hour       day     month  \\\n",
              "0               0.089885        -0.524747  0.688763  1.534128  0.214780   \n",
              "1               0.089778        -0.524747 -0.848696  0.613873 -0.658381   \n",
              "2               0.091410        -0.524747 -0.233712  1.074001  0.214780   \n",
              "3              -4.152960        -0.524747  0.073780 -1.456701  0.214780   \n",
              "4               0.090605         0.239529  0.535017  0.498841 -0.949435   \n",
              "...                  ...              ...       ...       ...       ...   \n",
              "149995          0.086885        -0.524747 -0.541204  1.419097 -1.531543   \n",
              "149996          0.089715        -0.524747 -1.002441  0.038714 -0.367327   \n",
              "149997          0.089077        -0.524747  0.073780 -0.076318 -0.949435   \n",
              "149998          0.090035         0.239529  1.303746 -1.226637 -0.076274   \n",
              "149999          0.085531        -0.524747  0.381271  1.764192  1.087942   \n",
              "\n",
              "         weekday      year  ...  day_of_week  Car Condition_Excellent  \\\n",
              "0      -0.535590 -1.468651  ...    -0.535590                      0.0   \n",
              "1      -1.562340  1.213392  ...    -1.562340                      0.0   \n",
              "2      -1.562340 -0.395834  ...    -1.562340                      0.0   \n",
              "3      -0.535590  0.676984  ...    -0.535590                      1.0   \n",
              "4       1.517909 -0.395834  ...     1.517909                      0.0   \n",
              "...          ...       ...  ...          ...                      ...   \n",
              "149995 -0.535590  1.749801  ...    -0.535590                      0.0   \n",
              "149996 -0.022215  0.676984  ...    -0.022215                      0.0   \n",
              "149997 -1.048965 -0.395834  ...    -1.048965                      0.0   \n",
              "149998 -0.022215  1.213392  ...    -0.022215                      1.0   \n",
              "149999  1.004534 -1.468651  ...     1.004534                      1.0   \n",
              "\n",
              "        Car Condition_Good  Car Condition_Very Good  Weather_rainy  \\\n",
              "0                      1.0                      0.0            0.0   \n",
              "1                      0.0                      0.0            1.0   \n",
              "2                      1.0                      0.0            0.0   \n",
              "3                      0.0                      0.0            0.0   \n",
              "4                      0.0                      1.0            0.0   \n",
              "...                    ...                      ...            ...   \n",
              "149995                 1.0                      0.0            0.0   \n",
              "149996                 1.0                      0.0            0.0   \n",
              "149997                 0.0                      0.0            0.0   \n",
              "149998                 0.0                      0.0            0.0   \n",
              "149999                 0.0                      0.0            0.0   \n",
              "\n",
              "        Weather_stormy  Weather_sunny  Weather_windy  \\\n",
              "0                  0.0            1.0            0.0   \n",
              "1                  0.0            0.0            0.0   \n",
              "2                  0.0            0.0            0.0   \n",
              "3                  1.0            0.0            0.0   \n",
              "4                  1.0            0.0            0.0   \n",
              "...                ...            ...            ...   \n",
              "149995             1.0            0.0            0.0   \n",
              "149996             1.0            0.0            0.0   \n",
              "149997             1.0            0.0            0.0   \n",
              "149998             1.0            0.0            0.0   \n",
              "149999             1.0            0.0            0.0   \n",
              "\n",
              "        Traffic Condition_Dense Traffic  Traffic Condition_Flow Traffic  \n",
              "0                                   0.0                             0.0  \n",
              "1                                   0.0                             1.0  \n",
              "2                                   1.0                             0.0  \n",
              "3                                   1.0                             0.0  \n",
              "4                                   1.0                             0.0  \n",
              "...                                 ...                             ...  \n",
              "149995                              1.0                             0.0  \n",
              "149996                              0.0                             1.0  \n",
              "149997                              0.0                             0.0  \n",
              "149998                              1.0                             0.0  \n",
              "149999                              0.0                             0.0  \n",
              "\n",
              "[150000 rows x 27 columns]"
            ]
          },
          "execution_count": 19,
          "metadata": {},
          "output_type": "execute_result"
        }
      ],
      "source": [
        "# One-hot encode categorical features, scale numerical features\n",
        "preprocessor = ColumnTransformer(\n",
        "    transformers=[\n",
        "        ('num', StandardScaler(), numerical_cols),  # Scale numerical features\n",
        "        ('cat', OneHotEncoder(drop='first'), categorical_cols)  # One-hot encode categorical features\n",
        "    ]\n",
        ")\n",
        "X = preprocessor.fit_transform(X)\n",
        "# If you want to see the processed array\n",
        "output_cols = numerical_cols + preprocessor.named_transformers_['cat'].get_feature_names_out(categorical_cols).tolist()\n",
        "\n",
        "X = pd.DataFrame(X, columns=output_cols)\n",
        "X"
      ]
    },
    {
      "cell_type": "code",
      "execution_count": 20,
      "metadata": {
        "colab": {
          "base_uri": "https://localhost:8080/"
        },
        "id": "eGRf2kR62nxs",
        "outputId": "f70b764d-9a6a-4275-909e-7843c6bdf430"
      },
      "outputs": [
        {
          "data": {
            "text/plain": [
              "['Car Condition_Excellent',\n",
              " 'Car Condition_Good',\n",
              " 'Car Condition_Very Good',\n",
              " 'Weather_rainy',\n",
              " 'Weather_stormy',\n",
              " 'Weather_sunny',\n",
              " 'Weather_windy',\n",
              " 'Traffic Condition_Dense Traffic',\n",
              " 'Traffic Condition_Flow Traffic']"
            ]
          },
          "execution_count": 20,
          "metadata": {},
          "output_type": "execute_result"
        }
      ],
      "source": [
        "preprocessor.named_transformers_['cat'].get_feature_names_out(categorical_cols).tolist()"
      ]
    },
    {
      "cell_type": "markdown",
      "metadata": {
        "id": "-nEg3tk9etpw"
      },
      "source": [
        "# 5. Use PCA for Dimensionality Reduction"
      ]
    },
    {
      "cell_type": "code",
      "execution_count": 21,
      "metadata": {
        "id": "m6ZJBJfdejov"
      },
      "outputs": [],
      "source": [
        "# Use PCA to reduce dimensionality, retain 95% variance\n",
        "pca = PCA(n_components=0.95)"
      ]
    },
    {
      "cell_type": "code",
      "execution_count": 22,
      "metadata": {
        "colab": {
          "base_uri": "https://localhost:8080/",
          "height": 478
        },
        "id": "FtUTBeCKrKp0",
        "outputId": "5449d9d5-2d40-4b8a-f9f2-058e987af6ae"
      },
      "outputs": [
        {
          "data": {
            "text/html": [
              "<div>\n",
              "<style scoped>\n",
              "    .dataframe tbody tr th:only-of-type {\n",
              "        vertical-align: middle;\n",
              "    }\n",
              "\n",
              "    .dataframe tbody tr th {\n",
              "        vertical-align: top;\n",
              "    }\n",
              "\n",
              "    .dataframe thead th {\n",
              "        text-align: right;\n",
              "    }\n",
              "</style>\n",
              "<table border=\"1\" class=\"dataframe\">\n",
              "  <thead>\n",
              "    <tr style=\"text-align: right;\">\n",
              "      <th></th>\n",
              "      <th>pickup_longitude</th>\n",
              "      <th>pickup_latitude</th>\n",
              "      <th>dropoff_longitude</th>\n",
              "      <th>dropoff_latitude</th>\n",
              "      <th>passenger_count</th>\n",
              "      <th>hour</th>\n",
              "      <th>day</th>\n",
              "      <th>month</th>\n",
              "      <th>weekday</th>\n",
              "      <th>year</th>\n",
              "      <th>...</th>\n",
              "      <th>day_of_week</th>\n",
              "      <th>Car Condition_Excellent</th>\n",
              "      <th>Car Condition_Good</th>\n",
              "      <th>Car Condition_Very Good</th>\n",
              "      <th>Weather_rainy</th>\n",
              "      <th>Weather_stormy</th>\n",
              "      <th>Weather_sunny</th>\n",
              "      <th>Weather_windy</th>\n",
              "      <th>Traffic Condition_Dense Traffic</th>\n",
              "      <th>Traffic Condition_Flow Traffic</th>\n",
              "    </tr>\n",
              "  </thead>\n",
              "  <tbody>\n",
              "    <tr>\n",
              "      <th>0</th>\n",
              "      <td>-0.088194</td>\n",
              "      <td>0.064012</td>\n",
              "      <td>-0.093301</td>\n",
              "      <td>0.089885</td>\n",
              "      <td>-0.524747</td>\n",
              "      <td>0.688763</td>\n",
              "      <td>1.534128</td>\n",
              "      <td>0.214780</td>\n",
              "      <td>-0.535590</td>\n",
              "      <td>-1.468651</td>\n",
              "      <td>...</td>\n",
              "      <td>-0.535590</td>\n",
              "      <td>0.0</td>\n",
              "      <td>1.0</td>\n",
              "      <td>0.0</td>\n",
              "      <td>0.0</td>\n",
              "      <td>0.0</td>\n",
              "      <td>1.0</td>\n",
              "      <td>0.0</td>\n",
              "      <td>0.0</td>\n",
              "      <td>0.0</td>\n",
              "    </tr>\n",
              "    <tr>\n",
              "      <th>1</th>\n",
              "      <td>-0.100552</td>\n",
              "      <td>0.075502</td>\n",
              "      <td>-0.099520</td>\n",
              "      <td>0.089778</td>\n",
              "      <td>-0.524747</td>\n",
              "      <td>-0.848696</td>\n",
              "      <td>0.613873</td>\n",
              "      <td>-0.658381</td>\n",
              "      <td>-1.562340</td>\n",
              "      <td>1.213392</td>\n",
              "      <td>...</td>\n",
              "      <td>-1.562340</td>\n",
              "      <td>0.0</td>\n",
              "      <td>0.0</td>\n",
              "      <td>0.0</td>\n",
              "      <td>1.0</td>\n",
              "      <td>0.0</td>\n",
              "      <td>0.0</td>\n",
              "      <td>0.0</td>\n",
              "      <td>0.0</td>\n",
              "      <td>1.0</td>\n",
              "    </tr>\n",
              "    <tr>\n",
              "      <th>2</th>\n",
              "      <td>-0.100985</td>\n",
              "      <td>0.074270</td>\n",
              "      <td>-0.099353</td>\n",
              "      <td>0.091410</td>\n",
              "      <td>-0.524747</td>\n",
              "      <td>-0.233712</td>\n",
              "      <td>1.074001</td>\n",
              "      <td>0.214780</td>\n",
              "      <td>-1.562340</td>\n",
              "      <td>-0.395834</td>\n",
              "      <td>...</td>\n",
              "      <td>-1.562340</td>\n",
              "      <td>0.0</td>\n",
              "      <td>1.0</td>\n",
              "      <td>0.0</td>\n",
              "      <td>0.0</td>\n",
              "      <td>0.0</td>\n",
              "      <td>0.0</td>\n",
              "      <td>0.0</td>\n",
              "      <td>1.0</td>\n",
              "      <td>0.0</td>\n",
              "    </tr>\n",
              "    <tr>\n",
              "      <th>3</th>\n",
              "      <td>5.135157</td>\n",
              "      <td>-3.509793</td>\n",
              "      <td>5.183554</td>\n",
              "      <td>-4.152960</td>\n",
              "      <td>-0.524747</td>\n",
              "      <td>0.073780</td>\n",
              "      <td>-1.456701</td>\n",
              "      <td>0.214780</td>\n",
              "      <td>-0.535590</td>\n",
              "      <td>0.676984</td>\n",
              "      <td>...</td>\n",
              "      <td>-0.535590</td>\n",
              "      <td>1.0</td>\n",
              "      <td>0.0</td>\n",
              "      <td>0.0</td>\n",
              "      <td>0.0</td>\n",
              "      <td>1.0</td>\n",
              "      <td>0.0</td>\n",
              "      <td>0.0</td>\n",
              "      <td>1.0</td>\n",
              "      <td>0.0</td>\n",
              "    </tr>\n",
              "    <tr>\n",
              "      <th>4</th>\n",
              "      <td>-0.102533</td>\n",
              "      <td>0.073719</td>\n",
              "      <td>-0.093722</td>\n",
              "      <td>0.090605</td>\n",
              "      <td>0.239529</td>\n",
              "      <td>0.535017</td>\n",
              "      <td>0.498841</td>\n",
              "      <td>-0.949435</td>\n",
              "      <td>1.517909</td>\n",
              "      <td>-0.395834</td>\n",
              "      <td>...</td>\n",
              "      <td>1.517909</td>\n",
              "      <td>0.0</td>\n",
              "      <td>0.0</td>\n",
              "      <td>1.0</td>\n",
              "      <td>0.0</td>\n",
              "      <td>1.0</td>\n",
              "      <td>0.0</td>\n",
              "      <td>0.0</td>\n",
              "      <td>1.0</td>\n",
              "      <td>0.0</td>\n",
              "    </tr>\n",
              "    <tr>\n",
              "      <th>...</th>\n",
              "      <td>...</td>\n",
              "      <td>...</td>\n",
              "      <td>...</td>\n",
              "      <td>...</td>\n",
              "      <td>...</td>\n",
              "      <td>...</td>\n",
              "      <td>...</td>\n",
              "      <td>...</td>\n",
              "      <td>...</td>\n",
              "      <td>...</td>\n",
              "      <td>...</td>\n",
              "      <td>...</td>\n",
              "      <td>...</td>\n",
              "      <td>...</td>\n",
              "      <td>...</td>\n",
              "      <td>...</td>\n",
              "      <td>...</td>\n",
              "      <td>...</td>\n",
              "      <td>...</td>\n",
              "      <td>...</td>\n",
              "      <td>...</td>\n",
              "    </tr>\n",
              "    <tr>\n",
              "      <th>149995</th>\n",
              "      <td>-0.101990</td>\n",
              "      <td>0.071923</td>\n",
              "      <td>-0.102215</td>\n",
              "      <td>0.086885</td>\n",
              "      <td>-0.524747</td>\n",
              "      <td>-0.541204</td>\n",
              "      <td>1.419097</td>\n",
              "      <td>-1.531543</td>\n",
              "      <td>-0.535590</td>\n",
              "      <td>1.749801</td>\n",
              "      <td>...</td>\n",
              "      <td>-0.535590</td>\n",
              "      <td>0.0</td>\n",
              "      <td>1.0</td>\n",
              "      <td>0.0</td>\n",
              "      <td>0.0</td>\n",
              "      <td>1.0</td>\n",
              "      <td>0.0</td>\n",
              "      <td>0.0</td>\n",
              "      <td>1.0</td>\n",
              "      <td>0.0</td>\n",
              "    </tr>\n",
              "    <tr>\n",
              "      <th>149996</th>\n",
              "      <td>-0.095868</td>\n",
              "      <td>0.072805</td>\n",
              "      <td>-0.099558</td>\n",
              "      <td>0.089715</td>\n",
              "      <td>-0.524747</td>\n",
              "      <td>-1.002441</td>\n",
              "      <td>0.038714</td>\n",
              "      <td>-0.367327</td>\n",
              "      <td>-0.022215</td>\n",
              "      <td>0.676984</td>\n",
              "      <td>...</td>\n",
              "      <td>-0.022215</td>\n",
              "      <td>0.0</td>\n",
              "      <td>1.0</td>\n",
              "      <td>0.0</td>\n",
              "      <td>0.0</td>\n",
              "      <td>1.0</td>\n",
              "      <td>0.0</td>\n",
              "      <td>0.0</td>\n",
              "      <td>0.0</td>\n",
              "      <td>1.0</td>\n",
              "    </tr>\n",
              "    <tr>\n",
              "      <th>149997</th>\n",
              "      <td>-0.101942</td>\n",
              "      <td>0.073652</td>\n",
              "      <td>-0.101729</td>\n",
              "      <td>0.089077</td>\n",
              "      <td>-0.524747</td>\n",
              "      <td>0.073780</td>\n",
              "      <td>-0.076318</td>\n",
              "      <td>-0.949435</td>\n",
              "      <td>-1.048965</td>\n",
              "      <td>-0.395834</td>\n",
              "      <td>...</td>\n",
              "      <td>-1.048965</td>\n",
              "      <td>0.0</td>\n",
              "      <td>0.0</td>\n",
              "      <td>0.0</td>\n",
              "      <td>0.0</td>\n",
              "      <td>1.0</td>\n",
              "      <td>0.0</td>\n",
              "      <td>0.0</td>\n",
              "      <td>0.0</td>\n",
              "      <td>0.0</td>\n",
              "    </tr>\n",
              "    <tr>\n",
              "      <th>149998</th>\n",
              "      <td>-0.101197</td>\n",
              "      <td>0.074190</td>\n",
              "      <td>-0.099416</td>\n",
              "      <td>0.090035</td>\n",
              "      <td>0.239529</td>\n",
              "      <td>1.303746</td>\n",
              "      <td>-1.226637</td>\n",
              "      <td>-0.076274</td>\n",
              "      <td>-0.022215</td>\n",
              "      <td>1.213392</td>\n",
              "      <td>...</td>\n",
              "      <td>-0.022215</td>\n",
              "      <td>1.0</td>\n",
              "      <td>0.0</td>\n",
              "      <td>0.0</td>\n",
              "      <td>0.0</td>\n",
              "      <td>1.0</td>\n",
              "      <td>0.0</td>\n",
              "      <td>0.0</td>\n",
              "      <td>1.0</td>\n",
              "      <td>0.0</td>\n",
              "    </tr>\n",
              "    <tr>\n",
              "      <th>149999</th>\n",
              "      <td>-0.104574</td>\n",
              "      <td>0.069380</td>\n",
              "      <td>-0.103218</td>\n",
              "      <td>0.085531</td>\n",
              "      <td>-0.524747</td>\n",
              "      <td>0.381271</td>\n",
              "      <td>1.764192</td>\n",
              "      <td>1.087942</td>\n",
              "      <td>1.004534</td>\n",
              "      <td>-1.468651</td>\n",
              "      <td>...</td>\n",
              "      <td>1.004534</td>\n",
              "      <td>1.0</td>\n",
              "      <td>0.0</td>\n",
              "      <td>0.0</td>\n",
              "      <td>0.0</td>\n",
              "      <td>1.0</td>\n",
              "      <td>0.0</td>\n",
              "      <td>0.0</td>\n",
              "      <td>0.0</td>\n",
              "      <td>0.0</td>\n",
              "    </tr>\n",
              "  </tbody>\n",
              "</table>\n",
              "<p>150000 rows × 27 columns</p>\n",
              "</div>"
            ],
            "text/plain": [
              "        pickup_longitude  pickup_latitude  dropoff_longitude  \\\n",
              "0              -0.088194         0.064012          -0.093301   \n",
              "1              -0.100552         0.075502          -0.099520   \n",
              "2              -0.100985         0.074270          -0.099353   \n",
              "3               5.135157        -3.509793           5.183554   \n",
              "4              -0.102533         0.073719          -0.093722   \n",
              "...                  ...              ...                ...   \n",
              "149995         -0.101990         0.071923          -0.102215   \n",
              "149996         -0.095868         0.072805          -0.099558   \n",
              "149997         -0.101942         0.073652          -0.101729   \n",
              "149998         -0.101197         0.074190          -0.099416   \n",
              "149999         -0.104574         0.069380          -0.103218   \n",
              "\n",
              "        dropoff_latitude  passenger_count      hour       day     month  \\\n",
              "0               0.089885        -0.524747  0.688763  1.534128  0.214780   \n",
              "1               0.089778        -0.524747 -0.848696  0.613873 -0.658381   \n",
              "2               0.091410        -0.524747 -0.233712  1.074001  0.214780   \n",
              "3              -4.152960        -0.524747  0.073780 -1.456701  0.214780   \n",
              "4               0.090605         0.239529  0.535017  0.498841 -0.949435   \n",
              "...                  ...              ...       ...       ...       ...   \n",
              "149995          0.086885        -0.524747 -0.541204  1.419097 -1.531543   \n",
              "149996          0.089715        -0.524747 -1.002441  0.038714 -0.367327   \n",
              "149997          0.089077        -0.524747  0.073780 -0.076318 -0.949435   \n",
              "149998          0.090035         0.239529  1.303746 -1.226637 -0.076274   \n",
              "149999          0.085531        -0.524747  0.381271  1.764192  1.087942   \n",
              "\n",
              "         weekday      year  ...  day_of_week  Car Condition_Excellent  \\\n",
              "0      -0.535590 -1.468651  ...    -0.535590                      0.0   \n",
              "1      -1.562340  1.213392  ...    -1.562340                      0.0   \n",
              "2      -1.562340 -0.395834  ...    -1.562340                      0.0   \n",
              "3      -0.535590  0.676984  ...    -0.535590                      1.0   \n",
              "4       1.517909 -0.395834  ...     1.517909                      0.0   \n",
              "...          ...       ...  ...          ...                      ...   \n",
              "149995 -0.535590  1.749801  ...    -0.535590                      0.0   \n",
              "149996 -0.022215  0.676984  ...    -0.022215                      0.0   \n",
              "149997 -1.048965 -0.395834  ...    -1.048965                      0.0   \n",
              "149998 -0.022215  1.213392  ...    -0.022215                      1.0   \n",
              "149999  1.004534 -1.468651  ...     1.004534                      1.0   \n",
              "\n",
              "        Car Condition_Good  Car Condition_Very Good  Weather_rainy  \\\n",
              "0                      1.0                      0.0            0.0   \n",
              "1                      0.0                      0.0            1.0   \n",
              "2                      1.0                      0.0            0.0   \n",
              "3                      0.0                      0.0            0.0   \n",
              "4                      0.0                      1.0            0.0   \n",
              "...                    ...                      ...            ...   \n",
              "149995                 1.0                      0.0            0.0   \n",
              "149996                 1.0                      0.0            0.0   \n",
              "149997                 0.0                      0.0            0.0   \n",
              "149998                 0.0                      0.0            0.0   \n",
              "149999                 0.0                      0.0            0.0   \n",
              "\n",
              "        Weather_stormy  Weather_sunny  Weather_windy  \\\n",
              "0                  0.0            1.0            0.0   \n",
              "1                  0.0            0.0            0.0   \n",
              "2                  0.0            0.0            0.0   \n",
              "3                  1.0            0.0            0.0   \n",
              "4                  1.0            0.0            0.0   \n",
              "...                ...            ...            ...   \n",
              "149995             1.0            0.0            0.0   \n",
              "149996             1.0            0.0            0.0   \n",
              "149997             1.0            0.0            0.0   \n",
              "149998             1.0            0.0            0.0   \n",
              "149999             1.0            0.0            0.0   \n",
              "\n",
              "        Traffic Condition_Dense Traffic  Traffic Condition_Flow Traffic  \n",
              "0                                   0.0                             0.0  \n",
              "1                                   0.0                             1.0  \n",
              "2                                   1.0                             0.0  \n",
              "3                                   1.0                             0.0  \n",
              "4                                   1.0                             0.0  \n",
              "...                                 ...                             ...  \n",
              "149995                              1.0                             0.0  \n",
              "149996                              0.0                             1.0  \n",
              "149997                              0.0                             0.0  \n",
              "149998                              1.0                             0.0  \n",
              "149999                              0.0                             0.0  \n",
              "\n",
              "[150000 rows x 27 columns]"
            ]
          },
          "execution_count": 22,
          "metadata": {},
          "output_type": "execute_result"
        }
      ],
      "source": [
        "X"
      ]
    },
    {
      "cell_type": "markdown",
      "metadata": {
        "id": "33cBYVdveycj"
      },
      "source": [
        "# 6. Model Building and Hyperparameter Tuning"
      ]
    },
    {
      "cell_type": "code",
      "execution_count": 23,
      "metadata": {
        "id": "RiJG4cvAejrO"
      },
      "outputs": [],
      "source": [
        "# Split the data into training and test sets\n",
        "X_train, X_test, y_train, y_test = train_test_split(X, y, test_size=0.2, random_state=42)"
      ]
    },
    {
      "cell_type": "code",
      "execution_count": 24,
      "metadata": {
        "id": "edottNwQejtl"
      },
      "outputs": [],
      "source": [
        "# Create a cross-validation strategy\n",
        "cv = KFold(n_splits=5, shuffle=True, random_state=42)"
      ]
    },
    {
      "cell_type": "markdown",
      "metadata": {
        "id": "-aTcYJWjrfyq"
      },
      "source": [
        "# Feature Selection using SelectKBest"
      ]
    },
    {
      "cell_type": "code",
      "execution_count": 25,
      "metadata": {
        "id": "8Ho0elaGq4vd"
      },
      "outputs": [],
      "source": [
        "# Feature Selection using SelectKBest\n",
        "selector = SelectKBest(f_classif, k=8)  # Select the top 8 features\n",
        "X_train_selected = selector.fit_transform(X_train, y_train)\n",
        "X_test_selected = selector.transform(X_test)"
      ]
    },
    {
      "cell_type": "code",
      "execution_count": 26,
      "metadata": {
        "id": "Irw0dEjFq7vf"
      },
      "outputs": [],
      "source": [
        "# Apply PCA for dimensionality reduction\n",
        "pca = PCA(n_components=8)  # Adjust to the number of selected features\n",
        "X_train_pca = pca.fit_transform(X_train_selected)\n",
        "X_test_pca = pca.transform(X_test_selected)"
      ]
    },
    {
      "cell_type": "code",
      "execution_count": 27,
      "metadata": {
        "id": "TSfMI-PLq9te"
      },
      "outputs": [],
      "source": [
        "# Get the selected feature names\n",
        "selected_features = X.columns[selector.get_support()]"
      ]
    },
    {
      "cell_type": "code",
      "execution_count": 28,
      "metadata": {
        "colab": {
          "base_uri": "https://localhost:8080/"
        },
        "id": "XNnpAMj9rAA9",
        "outputId": "28b6690b-637c-4b21-f276-e44b1577b2de"
      },
      "outputs": [
        {
          "name": "stdout",
          "output_type": "stream",
          "text": [
            "Top 8 selected features for training:\n",
            "['month', 'year', 'jfk_dist', 'ewr_dist', 'lga_dist', 'sol_dist', 'nyc_dist', 'distance']\n"
          ]
        }
      ],
      "source": [
        "# Display the top 8 selected features\n",
        "print(\"Top 8 selected features for training:\")\n",
        "print(selected_features.tolist())"
      ]
    },
    {
      "cell_type": "code",
      "execution_count": 29,
      "metadata": {},
      "outputs": [
        {
          "name": "stderr",
          "output_type": "stream",
          "text": [
            "<>:1: SyntaxWarning: invalid escape sequence '\\s'\n",
            "<>:1: SyntaxWarning: invalid escape sequence '\\s'\n",
            "C:\\Users\\Lenovo\\AppData\\Local\\Temp\\ipykernel_9336\\2678057301.py:1: SyntaxWarning: invalid escape sequence '\\s'\n",
            "  joblib.dump(preprocessor.named_transformers_['num'].fit(dt_sample[selected_features.tolist()]),'Task6\\savedModels\\scaler.pkl')\n"
          ]
        },
        {
          "data": {
            "text/plain": [
              "['Task6\\\\savedModels\\\\scaler.pkl']"
            ]
          },
          "execution_count": 29,
          "metadata": {},
          "output_type": "execute_result"
        }
      ],
      "source": [
        "joblib.dump(preprocessor.named_transformers_['num'].fit(dt_sample[selected_features.tolist()]),'Task6\\savedModels\\scaler.pkl')\n"
      ]
    },
    {
      "cell_type": "markdown",
      "metadata": {
        "id": "PBN-fjuYfUNK"
      },
      "source": [
        "### Decision Tree Model with Cross-validation and Grid Search"
      ]
    },
    {
      "cell_type": "code",
      "execution_count": 30,
      "metadata": {
        "id": "3OC2EaZjejwN"
      },
      "outputs": [],
      "source": [
        "dt_model = Pipeline(steps=[\n",
        "    #('preprocessor', preprocessor),\n",
        "    ('pca', pca),  # Apply PCA for dimensionality reduction\n",
        "    ('regressor', DecisionTreeRegressor(random_state=42))\n",
        "])"
      ]
    },
    {
      "cell_type": "code",
      "execution_count": 31,
      "metadata": {
        "id": "WnTOVNgeejy8"
      },
      "outputs": [],
      "source": [
        "dt_param_grid = {\n",
        "    'regressor__max_depth': [5, 10, 15, None],\n",
        "    'regressor__min_samples_split': [2, 5, 10],\n",
        "    'regressor__min_samples_leaf': [1, 2, 4]\n",
        "}"
      ]
    },
    {
      "cell_type": "code",
      "execution_count": 32,
      "metadata": {
        "colab": {
          "base_uri": "https://localhost:8080/",
          "height": 174
        },
        "id": "1NoiwwEPej2r",
        "outputId": "b2ae73cf-8458-49a7-9857-2fd2fb5974e6"
      },
      "outputs": [
        {
          "ename": "KeyboardInterrupt",
          "evalue": "",
          "output_type": "error",
          "traceback": [
            "\u001b[1;31m---------------------------------------------------------------------------\u001b[0m",
            "\u001b[1;31mKeyboardInterrupt\u001b[0m                         Traceback (most recent call last)",
            "Cell \u001b[1;32mIn[32], line 3\u001b[0m\n\u001b[0;32m      1\u001b[0m \u001b[38;5;66;03m# Perform grid search with cross-validation to find the best hyperparameters for Decision Tree\u001b[39;00m\n\u001b[0;32m      2\u001b[0m dt_grid_search \u001b[38;5;241m=\u001b[39m GridSearchCV(dt_model, dt_param_grid, cv\u001b[38;5;241m=\u001b[39mcv, scoring\u001b[38;5;241m=\u001b[39m\u001b[38;5;124m'\u001b[39m\u001b[38;5;124mneg_mean_squared_error\u001b[39m\u001b[38;5;124m'\u001b[39m)\n\u001b[1;32m----> 3\u001b[0m \u001b[43mdt_grid_search\u001b[49m\u001b[38;5;241;43m.\u001b[39;49m\u001b[43mfit\u001b[49m\u001b[43m(\u001b[49m\u001b[43mX_train_pca\u001b[49m\u001b[43m,\u001b[49m\u001b[43m \u001b[49m\u001b[43my_train\u001b[49m\u001b[43m)\u001b[49m\n",
            "File \u001b[1;32mc:\\Users\\Lenovo\\anaconda3\\envs\\cellula\\Lib\\site-packages\\sklearn\\base.py:1473\u001b[0m, in \u001b[0;36m_fit_context.<locals>.decorator.<locals>.wrapper\u001b[1;34m(estimator, *args, **kwargs)\u001b[0m\n\u001b[0;32m   1466\u001b[0m     estimator\u001b[38;5;241m.\u001b[39m_validate_params()\n\u001b[0;32m   1468\u001b[0m \u001b[38;5;28;01mwith\u001b[39;00m config_context(\n\u001b[0;32m   1469\u001b[0m     skip_parameter_validation\u001b[38;5;241m=\u001b[39m(\n\u001b[0;32m   1470\u001b[0m         prefer_skip_nested_validation \u001b[38;5;129;01mor\u001b[39;00m global_skip_validation\n\u001b[0;32m   1471\u001b[0m     )\n\u001b[0;32m   1472\u001b[0m ):\n\u001b[1;32m-> 1473\u001b[0m     \u001b[38;5;28;01mreturn\u001b[39;00m \u001b[43mfit_method\u001b[49m\u001b[43m(\u001b[49m\u001b[43mestimator\u001b[49m\u001b[43m,\u001b[49m\u001b[43m \u001b[49m\u001b[38;5;241;43m*\u001b[39;49m\u001b[43margs\u001b[49m\u001b[43m,\u001b[49m\u001b[43m \u001b[49m\u001b[38;5;241;43m*\u001b[39;49m\u001b[38;5;241;43m*\u001b[39;49m\u001b[43mkwargs\u001b[49m\u001b[43m)\u001b[49m\n",
            "File \u001b[1;32mc:\\Users\\Lenovo\\anaconda3\\envs\\cellula\\Lib\\site-packages\\sklearn\\model_selection\\_search.py:1019\u001b[0m, in \u001b[0;36mBaseSearchCV.fit\u001b[1;34m(self, X, y, **params)\u001b[0m\n\u001b[0;32m   1013\u001b[0m     results \u001b[38;5;241m=\u001b[39m \u001b[38;5;28mself\u001b[39m\u001b[38;5;241m.\u001b[39m_format_results(\n\u001b[0;32m   1014\u001b[0m         all_candidate_params, n_splits, all_out, all_more_results\n\u001b[0;32m   1015\u001b[0m     )\n\u001b[0;32m   1017\u001b[0m     \u001b[38;5;28;01mreturn\u001b[39;00m results\n\u001b[1;32m-> 1019\u001b[0m \u001b[38;5;28;43mself\u001b[39;49m\u001b[38;5;241;43m.\u001b[39;49m\u001b[43m_run_search\u001b[49m\u001b[43m(\u001b[49m\u001b[43mevaluate_candidates\u001b[49m\u001b[43m)\u001b[49m\n\u001b[0;32m   1021\u001b[0m \u001b[38;5;66;03m# multimetric is determined here because in the case of a callable\u001b[39;00m\n\u001b[0;32m   1022\u001b[0m \u001b[38;5;66;03m# self.scoring the return type is only known after calling\u001b[39;00m\n\u001b[0;32m   1023\u001b[0m first_test_score \u001b[38;5;241m=\u001b[39m all_out[\u001b[38;5;241m0\u001b[39m][\u001b[38;5;124m\"\u001b[39m\u001b[38;5;124mtest_scores\u001b[39m\u001b[38;5;124m\"\u001b[39m]\n",
            "File \u001b[1;32mc:\\Users\\Lenovo\\anaconda3\\envs\\cellula\\Lib\\site-packages\\sklearn\\model_selection\\_search.py:1573\u001b[0m, in \u001b[0;36mGridSearchCV._run_search\u001b[1;34m(self, evaluate_candidates)\u001b[0m\n\u001b[0;32m   1571\u001b[0m \u001b[38;5;28;01mdef\u001b[39;00m \u001b[38;5;21m_run_search\u001b[39m(\u001b[38;5;28mself\u001b[39m, evaluate_candidates):\n\u001b[0;32m   1572\u001b[0m \u001b[38;5;250m    \u001b[39m\u001b[38;5;124;03m\"\"\"Search all candidates in param_grid\"\"\"\u001b[39;00m\n\u001b[1;32m-> 1573\u001b[0m     \u001b[43mevaluate_candidates\u001b[49m\u001b[43m(\u001b[49m\u001b[43mParameterGrid\u001b[49m\u001b[43m(\u001b[49m\u001b[38;5;28;43mself\u001b[39;49m\u001b[38;5;241;43m.\u001b[39;49m\u001b[43mparam_grid\u001b[49m\u001b[43m)\u001b[49m\u001b[43m)\u001b[49m\n",
            "File \u001b[1;32mc:\\Users\\Lenovo\\anaconda3\\envs\\cellula\\Lib\\site-packages\\sklearn\\model_selection\\_search.py:965\u001b[0m, in \u001b[0;36mBaseSearchCV.fit.<locals>.evaluate_candidates\u001b[1;34m(candidate_params, cv, more_results)\u001b[0m\n\u001b[0;32m    957\u001b[0m \u001b[38;5;28;01mif\u001b[39;00m \u001b[38;5;28mself\u001b[39m\u001b[38;5;241m.\u001b[39mverbose \u001b[38;5;241m>\u001b[39m \u001b[38;5;241m0\u001b[39m:\n\u001b[0;32m    958\u001b[0m     \u001b[38;5;28mprint\u001b[39m(\n\u001b[0;32m    959\u001b[0m         \u001b[38;5;124m\"\u001b[39m\u001b[38;5;124mFitting \u001b[39m\u001b[38;5;132;01m{0}\u001b[39;00m\u001b[38;5;124m folds for each of \u001b[39m\u001b[38;5;132;01m{1}\u001b[39;00m\u001b[38;5;124m candidates,\u001b[39m\u001b[38;5;124m\"\u001b[39m\n\u001b[0;32m    960\u001b[0m         \u001b[38;5;124m\"\u001b[39m\u001b[38;5;124m totalling \u001b[39m\u001b[38;5;132;01m{2}\u001b[39;00m\u001b[38;5;124m fits\u001b[39m\u001b[38;5;124m\"\u001b[39m\u001b[38;5;241m.\u001b[39mformat(\n\u001b[0;32m    961\u001b[0m             n_splits, n_candidates, n_candidates \u001b[38;5;241m*\u001b[39m n_splits\n\u001b[0;32m    962\u001b[0m         )\n\u001b[0;32m    963\u001b[0m     )\n\u001b[1;32m--> 965\u001b[0m out \u001b[38;5;241m=\u001b[39m \u001b[43mparallel\u001b[49m\u001b[43m(\u001b[49m\n\u001b[0;32m    966\u001b[0m \u001b[43m    \u001b[49m\u001b[43mdelayed\u001b[49m\u001b[43m(\u001b[49m\u001b[43m_fit_and_score\u001b[49m\u001b[43m)\u001b[49m\u001b[43m(\u001b[49m\n\u001b[0;32m    967\u001b[0m \u001b[43m        \u001b[49m\u001b[43mclone\u001b[49m\u001b[43m(\u001b[49m\u001b[43mbase_estimator\u001b[49m\u001b[43m)\u001b[49m\u001b[43m,\u001b[49m\n\u001b[0;32m    968\u001b[0m \u001b[43m        \u001b[49m\u001b[43mX\u001b[49m\u001b[43m,\u001b[49m\n\u001b[0;32m    969\u001b[0m \u001b[43m        \u001b[49m\u001b[43my\u001b[49m\u001b[43m,\u001b[49m\n\u001b[0;32m    970\u001b[0m \u001b[43m        \u001b[49m\u001b[43mtrain\u001b[49m\u001b[38;5;241;43m=\u001b[39;49m\u001b[43mtrain\u001b[49m\u001b[43m,\u001b[49m\n\u001b[0;32m    971\u001b[0m \u001b[43m        \u001b[49m\u001b[43mtest\u001b[49m\u001b[38;5;241;43m=\u001b[39;49m\u001b[43mtest\u001b[49m\u001b[43m,\u001b[49m\n\u001b[0;32m    972\u001b[0m \u001b[43m        \u001b[49m\u001b[43mparameters\u001b[49m\u001b[38;5;241;43m=\u001b[39;49m\u001b[43mparameters\u001b[49m\u001b[43m,\u001b[49m\n\u001b[0;32m    973\u001b[0m \u001b[43m        \u001b[49m\u001b[43msplit_progress\u001b[49m\u001b[38;5;241;43m=\u001b[39;49m\u001b[43m(\u001b[49m\u001b[43msplit_idx\u001b[49m\u001b[43m,\u001b[49m\u001b[43m \u001b[49m\u001b[43mn_splits\u001b[49m\u001b[43m)\u001b[49m\u001b[43m,\u001b[49m\n\u001b[0;32m    974\u001b[0m \u001b[43m        \u001b[49m\u001b[43mcandidate_progress\u001b[49m\u001b[38;5;241;43m=\u001b[39;49m\u001b[43m(\u001b[49m\u001b[43mcand_idx\u001b[49m\u001b[43m,\u001b[49m\u001b[43m \u001b[49m\u001b[43mn_candidates\u001b[49m\u001b[43m)\u001b[49m\u001b[43m,\u001b[49m\n\u001b[0;32m    975\u001b[0m \u001b[43m        \u001b[49m\u001b[38;5;241;43m*\u001b[39;49m\u001b[38;5;241;43m*\u001b[39;49m\u001b[43mfit_and_score_kwargs\u001b[49m\u001b[43m,\u001b[49m\n\u001b[0;32m    976\u001b[0m \u001b[43m    \u001b[49m\u001b[43m)\u001b[49m\n\u001b[0;32m    977\u001b[0m \u001b[43m    \u001b[49m\u001b[38;5;28;43;01mfor\u001b[39;49;00m\u001b[43m \u001b[49m\u001b[43m(\u001b[49m\u001b[43mcand_idx\u001b[49m\u001b[43m,\u001b[49m\u001b[43m \u001b[49m\u001b[43mparameters\u001b[49m\u001b[43m)\u001b[49m\u001b[43m,\u001b[49m\u001b[43m \u001b[49m\u001b[43m(\u001b[49m\u001b[43msplit_idx\u001b[49m\u001b[43m,\u001b[49m\u001b[43m \u001b[49m\u001b[43m(\u001b[49m\u001b[43mtrain\u001b[49m\u001b[43m,\u001b[49m\u001b[43m \u001b[49m\u001b[43mtest\u001b[49m\u001b[43m)\u001b[49m\u001b[43m)\u001b[49m\u001b[43m \u001b[49m\u001b[38;5;129;43;01min\u001b[39;49;00m\u001b[43m \u001b[49m\u001b[43mproduct\u001b[49m\u001b[43m(\u001b[49m\n\u001b[0;32m    978\u001b[0m \u001b[43m        \u001b[49m\u001b[38;5;28;43menumerate\u001b[39;49m\u001b[43m(\u001b[49m\u001b[43mcandidate_params\u001b[49m\u001b[43m)\u001b[49m\u001b[43m,\u001b[49m\n\u001b[0;32m    979\u001b[0m \u001b[43m        \u001b[49m\u001b[38;5;28;43menumerate\u001b[39;49m\u001b[43m(\u001b[49m\u001b[43mcv\u001b[49m\u001b[38;5;241;43m.\u001b[39;49m\u001b[43msplit\u001b[49m\u001b[43m(\u001b[49m\u001b[43mX\u001b[49m\u001b[43m,\u001b[49m\u001b[43m \u001b[49m\u001b[43my\u001b[49m\u001b[43m,\u001b[49m\u001b[43m \u001b[49m\u001b[38;5;241;43m*\u001b[39;49m\u001b[38;5;241;43m*\u001b[39;49m\u001b[43mrouted_params\u001b[49m\u001b[38;5;241;43m.\u001b[39;49m\u001b[43msplitter\u001b[49m\u001b[38;5;241;43m.\u001b[39;49m\u001b[43msplit\u001b[49m\u001b[43m)\u001b[49m\u001b[43m)\u001b[49m\u001b[43m,\u001b[49m\n\u001b[0;32m    980\u001b[0m \u001b[43m    \u001b[49m\u001b[43m)\u001b[49m\n\u001b[0;32m    981\u001b[0m \u001b[43m\u001b[49m\u001b[43m)\u001b[49m\n\u001b[0;32m    983\u001b[0m \u001b[38;5;28;01mif\u001b[39;00m \u001b[38;5;28mlen\u001b[39m(out) \u001b[38;5;241m<\u001b[39m \u001b[38;5;241m1\u001b[39m:\n\u001b[0;32m    984\u001b[0m     \u001b[38;5;28;01mraise\u001b[39;00m \u001b[38;5;167;01mValueError\u001b[39;00m(\n\u001b[0;32m    985\u001b[0m         \u001b[38;5;124m\"\u001b[39m\u001b[38;5;124mNo fits were performed. \u001b[39m\u001b[38;5;124m\"\u001b[39m\n\u001b[0;32m    986\u001b[0m         \u001b[38;5;124m\"\u001b[39m\u001b[38;5;124mWas the CV iterator empty? \u001b[39m\u001b[38;5;124m\"\u001b[39m\n\u001b[0;32m    987\u001b[0m         \u001b[38;5;124m\"\u001b[39m\u001b[38;5;124mWere there no candidates?\u001b[39m\u001b[38;5;124m\"\u001b[39m\n\u001b[0;32m    988\u001b[0m     )\n",
            "File \u001b[1;32mc:\\Users\\Lenovo\\anaconda3\\envs\\cellula\\Lib\\site-packages\\sklearn\\utils\\parallel.py:74\u001b[0m, in \u001b[0;36mParallel.__call__\u001b[1;34m(self, iterable)\u001b[0m\n\u001b[0;32m     69\u001b[0m config \u001b[38;5;241m=\u001b[39m get_config()\n\u001b[0;32m     70\u001b[0m iterable_with_config \u001b[38;5;241m=\u001b[39m (\n\u001b[0;32m     71\u001b[0m     (_with_config(delayed_func, config), args, kwargs)\n\u001b[0;32m     72\u001b[0m     \u001b[38;5;28;01mfor\u001b[39;00m delayed_func, args, kwargs \u001b[38;5;129;01min\u001b[39;00m iterable\n\u001b[0;32m     73\u001b[0m )\n\u001b[1;32m---> 74\u001b[0m \u001b[38;5;28;01mreturn\u001b[39;00m \u001b[38;5;28;43msuper\u001b[39;49m\u001b[43m(\u001b[49m\u001b[43m)\u001b[49m\u001b[38;5;241;43m.\u001b[39;49m\u001b[38;5;21;43m__call__\u001b[39;49m\u001b[43m(\u001b[49m\u001b[43miterable_with_config\u001b[49m\u001b[43m)\u001b[49m\n",
            "File \u001b[1;32mc:\\Users\\Lenovo\\anaconda3\\envs\\cellula\\Lib\\site-packages\\joblib\\parallel.py:1918\u001b[0m, in \u001b[0;36mParallel.__call__\u001b[1;34m(self, iterable)\u001b[0m\n\u001b[0;32m   1916\u001b[0m     output \u001b[38;5;241m=\u001b[39m \u001b[38;5;28mself\u001b[39m\u001b[38;5;241m.\u001b[39m_get_sequential_output(iterable)\n\u001b[0;32m   1917\u001b[0m     \u001b[38;5;28mnext\u001b[39m(output)\n\u001b[1;32m-> 1918\u001b[0m     \u001b[38;5;28;01mreturn\u001b[39;00m output \u001b[38;5;28;01mif\u001b[39;00m \u001b[38;5;28mself\u001b[39m\u001b[38;5;241m.\u001b[39mreturn_generator \u001b[38;5;28;01melse\u001b[39;00m \u001b[38;5;28;43mlist\u001b[39;49m\u001b[43m(\u001b[49m\u001b[43moutput\u001b[49m\u001b[43m)\u001b[49m\n\u001b[0;32m   1920\u001b[0m \u001b[38;5;66;03m# Let's create an ID that uniquely identifies the current call. If the\u001b[39;00m\n\u001b[0;32m   1921\u001b[0m \u001b[38;5;66;03m# call is interrupted early and that the same instance is immediately\u001b[39;00m\n\u001b[0;32m   1922\u001b[0m \u001b[38;5;66;03m# re-used, this id will be used to prevent workers that were\u001b[39;00m\n\u001b[0;32m   1923\u001b[0m \u001b[38;5;66;03m# concurrently finalizing a task from the previous call to run the\u001b[39;00m\n\u001b[0;32m   1924\u001b[0m \u001b[38;5;66;03m# callback.\u001b[39;00m\n\u001b[0;32m   1925\u001b[0m \u001b[38;5;28;01mwith\u001b[39;00m \u001b[38;5;28mself\u001b[39m\u001b[38;5;241m.\u001b[39m_lock:\n",
            "File \u001b[1;32mc:\\Users\\Lenovo\\anaconda3\\envs\\cellula\\Lib\\site-packages\\joblib\\parallel.py:1847\u001b[0m, in \u001b[0;36mParallel._get_sequential_output\u001b[1;34m(self, iterable)\u001b[0m\n\u001b[0;32m   1845\u001b[0m \u001b[38;5;28mself\u001b[39m\u001b[38;5;241m.\u001b[39mn_dispatched_batches \u001b[38;5;241m+\u001b[39m\u001b[38;5;241m=\u001b[39m \u001b[38;5;241m1\u001b[39m\n\u001b[0;32m   1846\u001b[0m \u001b[38;5;28mself\u001b[39m\u001b[38;5;241m.\u001b[39mn_dispatched_tasks \u001b[38;5;241m+\u001b[39m\u001b[38;5;241m=\u001b[39m \u001b[38;5;241m1\u001b[39m\n\u001b[1;32m-> 1847\u001b[0m res \u001b[38;5;241m=\u001b[39m \u001b[43mfunc\u001b[49m\u001b[43m(\u001b[49m\u001b[38;5;241;43m*\u001b[39;49m\u001b[43margs\u001b[49m\u001b[43m,\u001b[49m\u001b[43m \u001b[49m\u001b[38;5;241;43m*\u001b[39;49m\u001b[38;5;241;43m*\u001b[39;49m\u001b[43mkwargs\u001b[49m\u001b[43m)\u001b[49m\n\u001b[0;32m   1848\u001b[0m \u001b[38;5;28mself\u001b[39m\u001b[38;5;241m.\u001b[39mn_completed_tasks \u001b[38;5;241m+\u001b[39m\u001b[38;5;241m=\u001b[39m \u001b[38;5;241m1\u001b[39m\n\u001b[0;32m   1849\u001b[0m \u001b[38;5;28mself\u001b[39m\u001b[38;5;241m.\u001b[39mprint_progress()\n",
            "File \u001b[1;32mc:\\Users\\Lenovo\\anaconda3\\envs\\cellula\\Lib\\site-packages\\sklearn\\utils\\parallel.py:136\u001b[0m, in \u001b[0;36m_FuncWrapper.__call__\u001b[1;34m(self, *args, **kwargs)\u001b[0m\n\u001b[0;32m    134\u001b[0m     config \u001b[38;5;241m=\u001b[39m {}\n\u001b[0;32m    135\u001b[0m \u001b[38;5;28;01mwith\u001b[39;00m config_context(\u001b[38;5;241m*\u001b[39m\u001b[38;5;241m*\u001b[39mconfig):\n\u001b[1;32m--> 136\u001b[0m     \u001b[38;5;28;01mreturn\u001b[39;00m \u001b[38;5;28;43mself\u001b[39;49m\u001b[38;5;241;43m.\u001b[39;49m\u001b[43mfunction\u001b[49m\u001b[43m(\u001b[49m\u001b[38;5;241;43m*\u001b[39;49m\u001b[43margs\u001b[49m\u001b[43m,\u001b[49m\u001b[43m \u001b[49m\u001b[38;5;241;43m*\u001b[39;49m\u001b[38;5;241;43m*\u001b[39;49m\u001b[43mkwargs\u001b[49m\u001b[43m)\u001b[49m\n",
            "File \u001b[1;32mc:\\Users\\Lenovo\\anaconda3\\envs\\cellula\\Lib\\site-packages\\sklearn\\model_selection\\_validation.py:888\u001b[0m, in \u001b[0;36m_fit_and_score\u001b[1;34m(estimator, X, y, scorer, train, test, verbose, parameters, fit_params, score_params, return_train_score, return_parameters, return_n_test_samples, return_times, return_estimator, split_progress, candidate_progress, error_score)\u001b[0m\n\u001b[0;32m    886\u001b[0m         estimator\u001b[38;5;241m.\u001b[39mfit(X_train, \u001b[38;5;241m*\u001b[39m\u001b[38;5;241m*\u001b[39mfit_params)\n\u001b[0;32m    887\u001b[0m     \u001b[38;5;28;01melse\u001b[39;00m:\n\u001b[1;32m--> 888\u001b[0m         \u001b[43mestimator\u001b[49m\u001b[38;5;241;43m.\u001b[39;49m\u001b[43mfit\u001b[49m\u001b[43m(\u001b[49m\u001b[43mX_train\u001b[49m\u001b[43m,\u001b[49m\u001b[43m \u001b[49m\u001b[43my_train\u001b[49m\u001b[43m,\u001b[49m\u001b[43m \u001b[49m\u001b[38;5;241;43m*\u001b[39;49m\u001b[38;5;241;43m*\u001b[39;49m\u001b[43mfit_params\u001b[49m\u001b[43m)\u001b[49m\n\u001b[0;32m    890\u001b[0m \u001b[38;5;28;01mexcept\u001b[39;00m \u001b[38;5;167;01mException\u001b[39;00m:\n\u001b[0;32m    891\u001b[0m     \u001b[38;5;66;03m# Note fit time as time until error\u001b[39;00m\n\u001b[0;32m    892\u001b[0m     fit_time \u001b[38;5;241m=\u001b[39m time\u001b[38;5;241m.\u001b[39mtime() \u001b[38;5;241m-\u001b[39m start_time\n",
            "File \u001b[1;32mc:\\Users\\Lenovo\\anaconda3\\envs\\cellula\\Lib\\site-packages\\sklearn\\base.py:1473\u001b[0m, in \u001b[0;36m_fit_context.<locals>.decorator.<locals>.wrapper\u001b[1;34m(estimator, *args, **kwargs)\u001b[0m\n\u001b[0;32m   1466\u001b[0m     estimator\u001b[38;5;241m.\u001b[39m_validate_params()\n\u001b[0;32m   1468\u001b[0m \u001b[38;5;28;01mwith\u001b[39;00m config_context(\n\u001b[0;32m   1469\u001b[0m     skip_parameter_validation\u001b[38;5;241m=\u001b[39m(\n\u001b[0;32m   1470\u001b[0m         prefer_skip_nested_validation \u001b[38;5;129;01mor\u001b[39;00m global_skip_validation\n\u001b[0;32m   1471\u001b[0m     )\n\u001b[0;32m   1472\u001b[0m ):\n\u001b[1;32m-> 1473\u001b[0m     \u001b[38;5;28;01mreturn\u001b[39;00m \u001b[43mfit_method\u001b[49m\u001b[43m(\u001b[49m\u001b[43mestimator\u001b[49m\u001b[43m,\u001b[49m\u001b[43m \u001b[49m\u001b[38;5;241;43m*\u001b[39;49m\u001b[43margs\u001b[49m\u001b[43m,\u001b[49m\u001b[43m \u001b[49m\u001b[38;5;241;43m*\u001b[39;49m\u001b[38;5;241;43m*\u001b[39;49m\u001b[43mkwargs\u001b[49m\u001b[43m)\u001b[49m\n",
            "File \u001b[1;32mc:\\Users\\Lenovo\\anaconda3\\envs\\cellula\\Lib\\site-packages\\sklearn\\pipeline.py:473\u001b[0m, in \u001b[0;36mPipeline.fit\u001b[1;34m(self, X, y, **params)\u001b[0m\n\u001b[0;32m    471\u001b[0m     \u001b[38;5;28;01mif\u001b[39;00m \u001b[38;5;28mself\u001b[39m\u001b[38;5;241m.\u001b[39m_final_estimator \u001b[38;5;241m!=\u001b[39m \u001b[38;5;124m\"\u001b[39m\u001b[38;5;124mpassthrough\u001b[39m\u001b[38;5;124m\"\u001b[39m:\n\u001b[0;32m    472\u001b[0m         last_step_params \u001b[38;5;241m=\u001b[39m routed_params[\u001b[38;5;28mself\u001b[39m\u001b[38;5;241m.\u001b[39msteps[\u001b[38;5;241m-\u001b[39m\u001b[38;5;241m1\u001b[39m][\u001b[38;5;241m0\u001b[39m]]\n\u001b[1;32m--> 473\u001b[0m         \u001b[38;5;28;43mself\u001b[39;49m\u001b[38;5;241;43m.\u001b[39;49m\u001b[43m_final_estimator\u001b[49m\u001b[38;5;241;43m.\u001b[39;49m\u001b[43mfit\u001b[49m\u001b[43m(\u001b[49m\u001b[43mXt\u001b[49m\u001b[43m,\u001b[49m\u001b[43m \u001b[49m\u001b[43my\u001b[49m\u001b[43m,\u001b[49m\u001b[43m \u001b[49m\u001b[38;5;241;43m*\u001b[39;49m\u001b[38;5;241;43m*\u001b[39;49m\u001b[43mlast_step_params\u001b[49m\u001b[43m[\u001b[49m\u001b[38;5;124;43m\"\u001b[39;49m\u001b[38;5;124;43mfit\u001b[39;49m\u001b[38;5;124;43m\"\u001b[39;49m\u001b[43m]\u001b[49m\u001b[43m)\u001b[49m\n\u001b[0;32m    475\u001b[0m \u001b[38;5;28;01mreturn\u001b[39;00m \u001b[38;5;28mself\u001b[39m\n",
            "File \u001b[1;32mc:\\Users\\Lenovo\\anaconda3\\envs\\cellula\\Lib\\site-packages\\sklearn\\base.py:1473\u001b[0m, in \u001b[0;36m_fit_context.<locals>.decorator.<locals>.wrapper\u001b[1;34m(estimator, *args, **kwargs)\u001b[0m\n\u001b[0;32m   1466\u001b[0m     estimator\u001b[38;5;241m.\u001b[39m_validate_params()\n\u001b[0;32m   1468\u001b[0m \u001b[38;5;28;01mwith\u001b[39;00m config_context(\n\u001b[0;32m   1469\u001b[0m     skip_parameter_validation\u001b[38;5;241m=\u001b[39m(\n\u001b[0;32m   1470\u001b[0m         prefer_skip_nested_validation \u001b[38;5;129;01mor\u001b[39;00m global_skip_validation\n\u001b[0;32m   1471\u001b[0m     )\n\u001b[0;32m   1472\u001b[0m ):\n\u001b[1;32m-> 1473\u001b[0m     \u001b[38;5;28;01mreturn\u001b[39;00m \u001b[43mfit_method\u001b[49m\u001b[43m(\u001b[49m\u001b[43mestimator\u001b[49m\u001b[43m,\u001b[49m\u001b[43m \u001b[49m\u001b[38;5;241;43m*\u001b[39;49m\u001b[43margs\u001b[49m\u001b[43m,\u001b[49m\u001b[43m \u001b[49m\u001b[38;5;241;43m*\u001b[39;49m\u001b[38;5;241;43m*\u001b[39;49m\u001b[43mkwargs\u001b[49m\u001b[43m)\u001b[49m\n",
            "File \u001b[1;32mc:\\Users\\Lenovo\\anaconda3\\envs\\cellula\\Lib\\site-packages\\sklearn\\tree\\_classes.py:1377\u001b[0m, in \u001b[0;36mDecisionTreeRegressor.fit\u001b[1;34m(self, X, y, sample_weight, check_input)\u001b[0m\n\u001b[0;32m   1347\u001b[0m \u001b[38;5;129m@_fit_context\u001b[39m(prefer_skip_nested_validation\u001b[38;5;241m=\u001b[39m\u001b[38;5;28;01mTrue\u001b[39;00m)\n\u001b[0;32m   1348\u001b[0m \u001b[38;5;28;01mdef\u001b[39;00m \u001b[38;5;21mfit\u001b[39m(\u001b[38;5;28mself\u001b[39m, X, y, sample_weight\u001b[38;5;241m=\u001b[39m\u001b[38;5;28;01mNone\u001b[39;00m, check_input\u001b[38;5;241m=\u001b[39m\u001b[38;5;28;01mTrue\u001b[39;00m):\n\u001b[0;32m   1349\u001b[0m \u001b[38;5;250m    \u001b[39m\u001b[38;5;124;03m\"\"\"Build a decision tree regressor from the training set (X, y).\u001b[39;00m\n\u001b[0;32m   1350\u001b[0m \n\u001b[0;32m   1351\u001b[0m \u001b[38;5;124;03m    Parameters\u001b[39;00m\n\u001b[1;32m   (...)\u001b[0m\n\u001b[0;32m   1374\u001b[0m \u001b[38;5;124;03m        Fitted estimator.\u001b[39;00m\n\u001b[0;32m   1375\u001b[0m \u001b[38;5;124;03m    \"\"\"\u001b[39;00m\n\u001b[1;32m-> 1377\u001b[0m     \u001b[38;5;28;43msuper\u001b[39;49m\u001b[43m(\u001b[49m\u001b[43m)\u001b[49m\u001b[38;5;241;43m.\u001b[39;49m\u001b[43m_fit\u001b[49m\u001b[43m(\u001b[49m\n\u001b[0;32m   1378\u001b[0m \u001b[43m        \u001b[49m\u001b[43mX\u001b[49m\u001b[43m,\u001b[49m\n\u001b[0;32m   1379\u001b[0m \u001b[43m        \u001b[49m\u001b[43my\u001b[49m\u001b[43m,\u001b[49m\n\u001b[0;32m   1380\u001b[0m \u001b[43m        \u001b[49m\u001b[43msample_weight\u001b[49m\u001b[38;5;241;43m=\u001b[39;49m\u001b[43msample_weight\u001b[49m\u001b[43m,\u001b[49m\n\u001b[0;32m   1381\u001b[0m \u001b[43m        \u001b[49m\u001b[43mcheck_input\u001b[49m\u001b[38;5;241;43m=\u001b[39;49m\u001b[43mcheck_input\u001b[49m\u001b[43m,\u001b[49m\n\u001b[0;32m   1382\u001b[0m \u001b[43m    \u001b[49m\u001b[43m)\u001b[49m\n\u001b[0;32m   1383\u001b[0m     \u001b[38;5;28;01mreturn\u001b[39;00m \u001b[38;5;28mself\u001b[39m\n",
            "File \u001b[1;32mc:\\Users\\Lenovo\\anaconda3\\envs\\cellula\\Lib\\site-packages\\sklearn\\tree\\_classes.py:472\u001b[0m, in \u001b[0;36mBaseDecisionTree._fit\u001b[1;34m(self, X, y, sample_weight, check_input, missing_values_in_feature_mask)\u001b[0m\n\u001b[0;32m    461\u001b[0m \u001b[38;5;28;01melse\u001b[39;00m:\n\u001b[0;32m    462\u001b[0m     builder \u001b[38;5;241m=\u001b[39m BestFirstTreeBuilder(\n\u001b[0;32m    463\u001b[0m         splitter,\n\u001b[0;32m    464\u001b[0m         min_samples_split,\n\u001b[1;32m   (...)\u001b[0m\n\u001b[0;32m    469\u001b[0m         \u001b[38;5;28mself\u001b[39m\u001b[38;5;241m.\u001b[39mmin_impurity_decrease,\n\u001b[0;32m    470\u001b[0m     )\n\u001b[1;32m--> 472\u001b[0m \u001b[43mbuilder\u001b[49m\u001b[38;5;241;43m.\u001b[39;49m\u001b[43mbuild\u001b[49m\u001b[43m(\u001b[49m\u001b[38;5;28;43mself\u001b[39;49m\u001b[38;5;241;43m.\u001b[39;49m\u001b[43mtree_\u001b[49m\u001b[43m,\u001b[49m\u001b[43m \u001b[49m\u001b[43mX\u001b[49m\u001b[43m,\u001b[49m\u001b[43m \u001b[49m\u001b[43my\u001b[49m\u001b[43m,\u001b[49m\u001b[43m \u001b[49m\u001b[43msample_weight\u001b[49m\u001b[43m,\u001b[49m\u001b[43m \u001b[49m\u001b[43mmissing_values_in_feature_mask\u001b[49m\u001b[43m)\u001b[49m\n\u001b[0;32m    474\u001b[0m \u001b[38;5;28;01mif\u001b[39;00m \u001b[38;5;28mself\u001b[39m\u001b[38;5;241m.\u001b[39mn_outputs_ \u001b[38;5;241m==\u001b[39m \u001b[38;5;241m1\u001b[39m \u001b[38;5;129;01mand\u001b[39;00m is_classifier(\u001b[38;5;28mself\u001b[39m):\n\u001b[0;32m    475\u001b[0m     \u001b[38;5;28mself\u001b[39m\u001b[38;5;241m.\u001b[39mn_classes_ \u001b[38;5;241m=\u001b[39m \u001b[38;5;28mself\u001b[39m\u001b[38;5;241m.\u001b[39mn_classes_[\u001b[38;5;241m0\u001b[39m]\n",
            "\u001b[1;31mKeyboardInterrupt\u001b[0m: "
          ]
        }
      ],
      "source": [
        "# Perform grid search with cross-validation to find the best hyperparameters for Decision Tree\n",
        "dt_grid_search = GridSearchCV(dt_model, dt_param_grid, cv=cv, scoring='neg_mean_squared_error')\n",
        "dt_grid_search.fit(X_train_pca, y_train)"
      ]
    },
    {
      "cell_type": "code",
      "execution_count": null,
      "metadata": {
        "id": "R7WCxr7_ej5V"
      },
      "outputs": [],
      "source": [
        "# Best Decision Tree parameters\n",
        "dt_best_params = dt_grid_search.best_params_\n",
        "dt_best_model = dt_grid_search.best_estimator_"
      ]
    },
    {
      "cell_type": "code",
      "execution_count": null,
      "metadata": {
        "id": "pa-mwHH6ej73"
      },
      "outputs": [],
      "source": [
        "# Predict on the test set\n",
        "dt_y_pred = dt_best_model.predict(X_test_pca)"
      ]
    },
    {
      "cell_type": "code",
      "execution_count": null,
      "metadata": {
        "id": "sL4nFDCuej-X"
      },
      "outputs": [],
      "source": [
        "# Performance metrics\n",
        "dt_mse = mean_squared_error(y_test, dt_y_pred)\n",
        "dt_rmse = np.sqrt(dt_mse)\n",
        "dt_r2 = r2_score(y_test, dt_y_pred)"
      ]
    },
    {
      "cell_type": "code",
      "execution_count": null,
      "metadata": {
        "colab": {
          "base_uri": "https://localhost:8080/"
        },
        "id": "AtmAnXFEekA-",
        "outputId": "016f6506-a7e0-4760-ae89-2227a6b52f0e"
      },
      "outputs": [
        {
          "name": "stdout",
          "output_type": "stream",
          "text": [
            "Decision Tree RMSE: 0.95\n",
            "Decision Tree R^2: 0.62\n",
            "Best parameters for Decision Tree: {'regressor__max_depth': None, 'regressor__min_samples_leaf': 4, 'regressor__min_samples_split': 10}\n"
          ]
        }
      ],
      "source": [
        "print(f'Decision Tree RMSE: {dt_rmse:.2f}')\n",
        "print(f'Decision Tree R^2: {dt_r2:.2f}')\n",
        "print(f'Best parameters for Decision Tree: {dt_best_params}')"
      ]
    },
    {
      "cell_type": "code",
      "execution_count": null,
      "metadata": {
        "id": "Fr_RaDZFHD45"
      },
      "outputs": [],
      "source": [
        "# 7. Save the Best Models\n",
        "os.makedirs('ml_app/models', exist_ok=True)\n",
        "joblib.dump(dt_best_model, 'ml_app/models/decision_tree_model.pkl')"
      ]
    },
    {
      "cell_type": "markdown",
      "metadata": {
        "id": "TmueOtTXfRXI"
      },
      "source": [
        "### Neural Network Model with Grid Search and Cross-validation"
      ]
    },
    {
      "cell_type": "code",
      "execution_count": null,
      "metadata": {
        "id": "TGRSKPMYekDt"
      },
      "outputs": [],
      "source": [
        "nn_model = Pipeline(steps=[\n",
        "    #('preprocessor', preprocessor),\n",
        "    ('pca', pca),\n",
        "    ('regressor', MLPRegressor(max_iter=1000, random_state=42))\n",
        "])"
      ]
    },
    {
      "cell_type": "code",
      "execution_count": null,
      "metadata": {
        "id": "P8vDFFG_ekGc"
      },
      "outputs": [],
      "source": [
        "nn_param_grid = {\n",
        "    'regressor__hidden_layer_sizes': [(50,), (100,), (50, 50)],\n",
        "    'regressor__activation': ['tanh', 'relu'],\n",
        "    'regressor__solver': ['adam', 'sgd'],\n",
        "    'regressor__alpha': [0.0001, 0.001],\n",
        "    'regressor__learning_rate_init': [0.001, 0.01]\n",
        "}"
      ]
    },
    {
      "cell_type": "code",
      "execution_count": null,
      "metadata": {
        "id": "5ne4WPRzekIc"
      },
      "outputs": [],
      "source": [
        "nn_grid_search = GridSearchCV(nn_model, nn_param_grid, cv=cv, scoring='neg_mean_squared_error')\n",
        "nn_grid_search.fit(X_train_pca, y_train)"
      ]
    },
    {
      "cell_type": "code",
      "execution_count": null,
      "metadata": {
        "id": "wE4NKrb7ekKw"
      },
      "outputs": [],
      "source": [
        "# Best Neural Network parameters\n",
        "nn_best_params = nn_grid_search.best_params_\n",
        "nn_best_model = nn_grid_search.best_estimator_"
      ]
    },
    {
      "cell_type": "code",
      "execution_count": null,
      "metadata": {
        "id": "BlbX17XgekNV"
      },
      "outputs": [],
      "source": [
        "# Predict on the test set\n",
        "nn_y_pred = nn_best_model.predict(X_test_pca)"
      ]
    },
    {
      "cell_type": "code",
      "execution_count": null,
      "metadata": {
        "id": "vG361djQekP4"
      },
      "outputs": [],
      "source": [
        "# Performance metrics\n",
        "nn_mse = mean_squared_error(y_test, nn_y_pred)\n",
        "nn_rmse = np.sqrt(nn_mse)\n",
        "nn_r2 = r2_score(y_test, nn_y_pred)"
      ]
    },
    {
      "cell_type": "code",
      "execution_count": null,
      "metadata": {
        "id": "qU33QW5mekSt"
      },
      "outputs": [],
      "source": [
        "print(f'Neural Network RMSE: {nn_rmse:.2f}')\n",
        "print(f'Neural Network R^2: {nn_r2:.2f}')\n",
        "print(f'Best parameters for Neural Network: {nn_best_params}')"
      ]
    },
    {
      "cell_type": "markdown",
      "metadata": {
        "id": "HVhz66PWf0pe"
      },
      "source": [
        "### Model Comparison Based on RMSE"
      ]
    },
    {
      "cell_type": "code",
      "execution_count": null,
      "metadata": {
        "id": "yJk27TqofnVx"
      },
      "outputs": [],
      "source": [
        "# Model Comparison Between Decision Tree and Neural Network Based on RMSE\n",
        "if dt_rmse < nn_rmse:\n",
        "    print(f'Best model: Decision Tree with RMSE: {dt_rmse:.2f} and R^2: {dt_r2:.2f}')\n",
        "else:\n",
        "    print(f'Best model: Neural Network with RMSE: {nn_rmse:.2f} and R^2: {nn_r2:.2f}')"
      ]
    },
    {
      "cell_type": "code",
      "execution_count": null,
      "metadata": {
        "id": "kiH8xQgYfnZV"
      },
      "outputs": [],
      "source": [
        "import joblib\n",
        "import os\n",
        "\n",
        "# 7. Save the Best Models\n",
        "os.makedirs('ml_app/models', exist_ok=True)\n",
        "joblib.dump(dt_best_model, 'ml_app/models/decision_tree_model.pkl')\n",
        "joblib.dump(nn_best_model, 'ml_app/models/neural_network_model.pkl')\n",
        "joblib.dump(preprocessor, 'ml_app/models/preprocessor.pkl')"
      ]
    },
    {
      "cell_type": "code",
      "execution_count": null,
      "metadata": {
        "id": "M7Pgzk_xfnbs"
      },
      "outputs": [],
      "source": [
        "X_train.columns"
      ]
    },
    {
      "cell_type": "code",
      "execution_count": null,
      "metadata": {
        "id": "pOM7IFdcfnfF"
      },
      "outputs": [],
      "source": []
    },
    {
      "cell_type": "code",
      "execution_count": null,
      "metadata": {
        "id": "ijwuTs7efnhg"
      },
      "outputs": [],
      "source": []
    }
  ],
  "metadata": {
    "accelerator": "TPU",
    "colab": {
      "gpuType": "V28",
      "provenance": []
    },
    "kernelspec": {
      "display_name": "cellula",
      "language": "python",
      "name": "python3"
    },
    "language_info": {
      "codemirror_mode": {
        "name": "ipython",
        "version": 3
      },
      "file_extension": ".py",
      "mimetype": "text/x-python",
      "name": "python",
      "nbconvert_exporter": "python",
      "pygments_lexer": "ipython3",
      "version": "3.13.0"
    }
  },
  "nbformat": 4,
  "nbformat_minor": 0
}
